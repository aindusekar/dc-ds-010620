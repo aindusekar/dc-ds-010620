{
 "cells": [
  {
   "cell_type": "markdown",
   "metadata": {},
   "source": [
    "## Goals of Today's Lecture:\n",
    "\n",
    "1. Summing up Week 1\n",
    "3. Confidence Intervals"
   ]
  },
  {
   "cell_type": "markdown",
   "metadata": {},
   "source": [
    "### This Weeek Today\n",
    "\n",
    "- Probability - Helps us quantify uncertainty under defined events\n",
    "- Random Variables - Enable us to mathematically map those events\n",
    "- Sampling - Helps us make generalizations about larger populations\n",
    "- Central Limit Theorem - Helps us describe the population regardless of its distribution\n",
    "- Hypothesis Testing - Helps us statistically gauge significant effects"
   ]
  },
  {
   "cell_type": "markdown",
   "metadata": {},
   "source": [
    "### Confidence Intervals\n",
    "\n",
    "\n",
    "![formula](./img/margin_of_error.png)\n",
    "\n",
    "Point estimate +/- margin of error"
   ]
  },
  {
   "cell_type": "markdown",
   "metadata": {},
   "source": [
    "**KEY POINT** : Our level of confidence that if we obtained a sample of equal size, our sample interval would contain the population mean.\n",
    "\n",
    "It **IS NOT** the probability that the population mean lies within our sample interval. <-- this implies that there is an element of probability related to having the population mean within our sample. \n",
    "The true population mean is either in or it is not.\n",
    "\n",
    "Let's understand this better using a [visual display](https://shiny.rit.albany.edu/stat/confidence/)."
   ]
  },
  {
   "cell_type": "markdown",
   "metadata": {},
   "source": [
    "### An Example\n",
    "Let's analyze a collection of Capital Bike Share data."
   ]
  },
  {
   "cell_type": "code",
   "execution_count": null,
   "metadata": {},
   "outputs": [],
   "source": [
    "#population mean is fixed and interval contains that fixed population mean 95% of time"
   ]
  },
  {
   "cell_type": "code",
   "execution_count": null,
   "metadata": {},
   "outputs": [],
   "source": [
    "# import os\n",
    "# os.chdir('/Users/schandrasekharan/Desktop/conf_int')"
   ]
  },
  {
   "cell_type": "code",
<<<<<<< HEAD
   "execution_count": 2,
=======
   "execution_count": 7,
>>>>>>> 3c5a63ce6c4bdfa366ebbe91d38460f938f0130c
   "metadata": {},
   "outputs": [],
   "source": [
    "import pandas as pd\n",
    "import numpy as np\n",
    "import matplotlib.pyplot as plt\n",
    "%matplotlib inline\n",
    "df = pd.read_csv('data/201904-capitalbikeshare-tripdata.csv.zip')"
   ]
  },
  {
   "cell_type": "code",
<<<<<<< HEAD
   "execution_count": 3,
=======
   "execution_count": 8,
>>>>>>> 3c5a63ce6c4bdfa366ebbe91d38460f938f0130c
   "metadata": {},
   "outputs": [
    {
     "data": {
      "text/html": [
       "<div>\n",
       "<style scoped>\n",
       "    .dataframe tbody tr th:only-of-type {\n",
       "        vertical-align: middle;\n",
       "    }\n",
       "\n",
       "    .dataframe tbody tr th {\n",
       "        vertical-align: top;\n",
       "    }\n",
       "\n",
       "    .dataframe thead th {\n",
       "        text-align: right;\n",
       "    }\n",
       "</style>\n",
       "<table border=\"1\" class=\"dataframe\">\n",
       "  <thead>\n",
       "    <tr style=\"text-align: right;\">\n",
       "      <th></th>\n",
       "      <th>Duration</th>\n",
       "      <th>Start date</th>\n",
       "      <th>End date</th>\n",
       "      <th>Start station number</th>\n",
       "      <th>Start station</th>\n",
       "      <th>End station number</th>\n",
       "      <th>End station</th>\n",
       "      <th>Bike number</th>\n",
       "      <th>Member type</th>\n",
       "    </tr>\n",
       "  </thead>\n",
       "  <tbody>\n",
       "    <tr>\n",
<<<<<<< HEAD
       "      <td>0</td>\n",
=======
       "      <th>0</th>\n",
>>>>>>> 3c5a63ce6c4bdfa366ebbe91d38460f938f0130c
       "      <td>313</td>\n",
       "      <td>2019-04-01 00:03:03</td>\n",
       "      <td>2019-04-01 00:08:16</td>\n",
       "      <td>31618</td>\n",
       "      <td>4th &amp; East Capitol St NE</td>\n",
       "      <td>31630</td>\n",
       "      <td>15th &amp; East Capitol St NE</td>\n",
       "      <td>W24063</td>\n",
       "      <td>Member</td>\n",
       "    </tr>\n",
       "    <tr>\n",
<<<<<<< HEAD
       "      <td>1</td>\n",
=======
       "      <th>1</th>\n",
>>>>>>> 3c5a63ce6c4bdfa366ebbe91d38460f938f0130c
       "      <td>453</td>\n",
       "      <td>2019-04-01 00:07:37</td>\n",
       "      <td>2019-04-01 00:15:10</td>\n",
       "      <td>31119</td>\n",
       "      <td>14th &amp; Belmont St NW</td>\n",
       "      <td>31298</td>\n",
       "      <td>15th &amp; M St NW</td>\n",
       "      <td>W22080</td>\n",
       "      <td>Member</td>\n",
       "    </tr>\n",
       "    <tr>\n",
<<<<<<< HEAD
       "      <td>2</td>\n",
=======
       "      <th>2</th>\n",
>>>>>>> 3c5a63ce6c4bdfa366ebbe91d38460f938f0130c
       "      <td>333</td>\n",
       "      <td>2019-04-01 00:09:31</td>\n",
       "      <td>2019-04-01 00:15:05</td>\n",
       "      <td>31203</td>\n",
       "      <td>14th &amp; Rhode Island Ave NW</td>\n",
       "      <td>31519</td>\n",
       "      <td>1st &amp; O St NW</td>\n",
       "      <td>W00276</td>\n",
       "      <td>Member</td>\n",
       "    </tr>\n",
       "    <tr>\n",
<<<<<<< HEAD
       "      <td>3</td>\n",
=======
       "      <th>3</th>\n",
>>>>>>> 3c5a63ce6c4bdfa366ebbe91d38460f938f0130c
       "      <td>568</td>\n",
       "      <td>2019-04-01 00:10:20</td>\n",
       "      <td>2019-04-01 00:19:49</td>\n",
       "      <td>31202</td>\n",
       "      <td>14th &amp; R St NW</td>\n",
       "      <td>31103</td>\n",
       "      <td>16th &amp; Harvard St NW</td>\n",
       "      <td>W21582</td>\n",
       "      <td>Member</td>\n",
       "    </tr>\n",
       "    <tr>\n",
<<<<<<< HEAD
       "      <td>4</td>\n",
=======
       "      <th>4</th>\n",
>>>>>>> 3c5a63ce6c4bdfa366ebbe91d38460f938f0130c
       "      <td>1609</td>\n",
       "      <td>2019-04-01 00:10:38</td>\n",
       "      <td>2019-04-01 00:37:28</td>\n",
       "      <td>31517</td>\n",
       "      <td>Union Market</td>\n",
       "      <td>31655</td>\n",
       "      <td>New Jersey Ave &amp; F St NW</td>\n",
       "      <td>75558</td>\n",
       "      <td>Member</td>\n",
       "    </tr>\n",
       "  </tbody>\n",
       "</table>\n",
       "</div>"
      ],
      "text/plain": [
       "   Duration           Start date             End date  Start station number  \\\n",
       "0       313  2019-04-01 00:03:03  2019-04-01 00:08:16                 31618   \n",
       "1       453  2019-04-01 00:07:37  2019-04-01 00:15:10                 31119   \n",
       "2       333  2019-04-01 00:09:31  2019-04-01 00:15:05                 31203   \n",
       "3       568  2019-04-01 00:10:20  2019-04-01 00:19:49                 31202   \n",
       "4      1609  2019-04-01 00:10:38  2019-04-01 00:37:28                 31517   \n",
       "\n",
       "                Start station  End station number                End station  \\\n",
       "0    4th & East Capitol St NE               31630  15th & East Capitol St NE   \n",
       "1        14th & Belmont St NW               31298             15th & M St NW   \n",
       "2  14th & Rhode Island Ave NW               31519              1st & O St NW   \n",
       "3              14th & R St NW               31103       16th & Harvard St NW   \n",
       "4                Union Market               31655   New Jersey Ave & F St NW   \n",
       "\n",
       "  Bike number Member type  \n",
       "0      W24063      Member  \n",
       "1      W22080      Member  \n",
       "2      W00276      Member  \n",
       "3      W21582      Member  \n",
       "4       75558      Member  "
      ]
     },
<<<<<<< HEAD
     "execution_count": 3,
=======
     "execution_count": 8,
>>>>>>> 3c5a63ce6c4bdfa366ebbe91d38460f938f0130c
     "metadata": {},
     "output_type": "execute_result"
    }
   ],
   "source": [
    "df.head()\n"
   ]
  },
  {
   "cell_type": "code",
<<<<<<< HEAD
   "execution_count": 4,
=======
   "execution_count": 9,
>>>>>>> 3c5a63ce6c4bdfa366ebbe91d38460f938f0130c
   "metadata": {},
   "outputs": [
    {
     "data": {
      "text/plain": [
       "count    324514.000000\n",
       "mean         14.173228\n",
       "std           9.659266\n",
       "min           1.000000\n",
       "25%           6.766667\n",
       "50%          11.700000\n",
       "75%          19.316667\n",
       "max          49.983333\n",
       "Name: Duration, dtype: float64"
      ]
     },
<<<<<<< HEAD
     "execution_count": 4,
=======
     "execution_count": 9,
>>>>>>> 3c5a63ce6c4bdfa366ebbe91d38460f938f0130c
     "metadata": {},
     "output_type": "execute_result"
    }
   ],
   "source": [
    "trip_durations = df['Duration']/60\n",
    "trip_durations = trip_durations[trip_durations < 50]\n",
    "trip_durations.describe()"
   ]
  },
  {
   "cell_type": "code",
   "execution_count": null,
   "metadata": {},
   "outputs": [],
   "source": []
  },
  {
   "cell_type": "code",
<<<<<<< HEAD
   "execution_count": 5,
=======
   "execution_count": 11,
>>>>>>> 3c5a63ce6c4bdfa366ebbe91d38460f938f0130c
   "metadata": {},
   "outputs": [
    {
     "data": {
<<<<<<< HEAD
      "image/png": "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\n",
=======
      "image/png": "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\n",
>>>>>>> 3c5a63ce6c4bdfa366ebbe91d38460f938f0130c
      "text/plain": [
       "<Figure size 432x288 with 1 Axes>"
      ]
     },
     "metadata": {
      "needs_background": "light"
     },
     "output_type": "display_data"
    }
   ],
   "source": [
    "trip_durations.hist(bins=70)\n",
    "plt.title(\"Distribution of ALL Samples Collected\")\n",
    "plt.xlabel(\"Duration in Min\")\n",
    "plt.ylabel(\"Frequency\")\n",
    "plt.show()"
   ]
  },
  {
   "cell_type": "code",
<<<<<<< HEAD
   "execution_count": 6,
=======
   "execution_count": 12,
>>>>>>> 3c5a63ce6c4bdfa366ebbe91d38460f938f0130c
   "metadata": {},
   "outputs": [
    {
     "data": {
      "text/plain": [
       "0    6.65\n",
       "dtype: float64"
      ]
     },
<<<<<<< HEAD
     "execution_count": 6,
=======
     "execution_count": 12,
>>>>>>> 3c5a63ce6c4bdfa366ebbe91d38460f938f0130c
     "metadata": {},
     "output_type": "execute_result"
    }
   ],
   "source": [
    "#### The length of a bike ride is not normally distributed\n",
    "\n",
    "#### Get population statistics\n",
    "\n",
    "trip_durations.mode()"
   ]
  },
  {
   "cell_type": "code",
<<<<<<< HEAD
   "execution_count": 7,
=======
   "execution_count": 13,
>>>>>>> 3c5a63ce6c4bdfa366ebbe91d38460f938f0130c
   "metadata": {},
   "outputs": [
    {
     "name": "stdout",
     "output_type": "stream",
     "text": [
      "pop_mean is 14.173227811434836 \n",
      "pop_std is 9.659265893464935\n"
     ]
    }
   ],
   "source": [
    "pop_mean = trip_durations.mean()\n",
    "pop_std = trip_durations.std()\n",
    "print('pop_mean is {} \\npop_std is {}'.format(pop_mean,pop_std))"
   ]
  },
  {
   "cell_type": "markdown",
   "metadata": {},
   "source": [
    "#### Example 1:\n",
    "Let's construct an 80% and 95% confidence interval for one of our samples: \n",
    "\n",
    "__Your Turn__\n",
    "\n",
    "- Select a random sample of size 200 from trip_durations. Keep these in a variable name \"sample\"\n",
    "\n",
    "- Find the sample mean. Keep this number as \"x_bar\"\n",
    "\n",
    "- Find standard_error and confidence factors.\n",
    "\n",
    "- Calculate margin of error.\n"
   ]
  },
  {
   "cell_type": "code",
<<<<<<< HEAD
   "execution_count": 8,
=======
   "execution_count": 14,
>>>>>>> 3c5a63ce6c4bdfa366ebbe91d38460f938f0130c
   "metadata": {},
   "outputs": [],
   "source": [
    "import numpy as np\n",
    "import scipy.stats as stats\n"
   ]
  },
  {
   "cell_type": "code",
   "execution_count": 13,
   "metadata": {},
   "outputs": [],
   "source": [
    "sample = trip_durations.sample(n=200)"
   ]
  },
  {
   "cell_type": "code",
   "execution_count": 25,
   "metadata": {},
   "outputs": [
    {
     "data": {
      "text/plain": [
       "200"
      ]
     },
     "execution_count": 25,
     "metadata": {},
     "output_type": "execute_result"
    }
   ],
   "source": [
    "len(sample)"
   ]
  },
  {
   "cell_type": "code",
   "execution_count": 17,
   "metadata": {},
   "outputs": [
    {
     "data": {
      "text/plain": [
       "pandas.core.series.Series"
      ]
     },
     "execution_count": 17,
     "metadata": {},
     "output_type": "execute_result"
    }
   ],
   "source": [
    "type(sample)"
   ]
  },
  {
   "cell_type": "code",
   "execution_count": 19,
   "metadata": {},
   "outputs": [],
   "source": [
    "x_bar = sample.mean()"
   ]
  },
  {
   "cell_type": "code",
   "execution_count": 30,
   "metadata": {},
   "outputs": [
    {
     "data": {
      "text/plain": [
       "14.03758333333333"
      ]
     },
     "execution_count": 30,
     "metadata": {},
     "output_type": "execute_result"
    }
   ],
   "source": [
    "x_bar"
   ]
  },
  {
   "cell_type": "code",
   "execution_count": 20,
   "metadata": {},
   "outputs": [
    {
     "data": {
      "text/plain": [
       "10.445314108059389"
      ]
     },
     "execution_count": 20,
     "metadata": {},
     "output_type": "execute_result"
    }
   ],
   "source": [
    "sample.std()"
   ]
  },
  {
   "cell_type": "code",
   "execution_count": 21,
   "metadata": {},
   "outputs": [],
   "source": [
    "standard_error = (sample.std())/(np.sqrt(200))"
   ]
  },
  {
   "cell_type": "code",
   "execution_count": 22,
   "metadata": {},
   "outputs": [
    {
     "data": {
      "text/plain": [
       "0.7385952437432308"
      ]
     },
     "execution_count": 22,
     "metadata": {},
     "output_type": "execute_result"
    }
   ],
   "source": [
    "standard_error"
   ]
  },
  {
   "cell_type": "code",
   "execution_count": 32,
   "metadata": {},
   "outputs": [],
   "source": [
    "confidence_factor = scs.norm.ppf(.90)  #80% confidence"
   ]
  },
  {
   "cell_type": "code",
   "execution_count": 33,
   "metadata": {},
   "outputs": [
    {
     "data": {
      "text/plain": [
       "14.984131224256263"
      ]
     },
     "execution_count": 33,
     "metadata": {},
     "output_type": "execute_result"
    }
   ],
   "source": [
    "x_bar + (confidence_factor *standard_error)"
   ]
  },
  {
   "cell_type": "code",
   "execution_count": 38,
   "metadata": {},
   "outputs": [],
   "source": [
    "margin_error = confidence_factor * standard_error"
   ]
  },
  {
   "cell_type": "code",
   "execution_count": 40,
   "metadata": {},
   "outputs": [
    {
     "data": {
      "text/plain": [
       "1.447620076889315"
      ]
     },
     "execution_count": 40,
     "metadata": {},
     "output_type": "execute_result"
    }
   ],
   "source": [
    "margin_error"
   ]
  },
  {
   "cell_type": "code",
   "execution_count": 34,
   "metadata": {},
   "outputs": [
    {
     "data": {
      "text/plain": [
       "13.091035442410398"
      ]
     },
     "execution_count": 34,
     "metadata": {},
     "output_type": "execute_result"
    }
   ],
   "source": [
    "x_bar - (confidence_factor *standard_error)"
   ]
  },
  {
   "cell_type": "code",
   "execution_count": 35,
   "metadata": {},
   "outputs": [],
   "source": [
    "confidence_factor = scs.norm.ppf(.975) #95% confidence"
   ]
  },
  {
   "cell_type": "code",
   "execution_count": 41,
   "metadata": {},
   "outputs": [
    {
     "data": {
      "text/plain": [
       "[12.589963256444015, 15.485203410222645]"
      ]
     },
     "execution_count": 41,
     "metadata": {},
     "output_type": "execute_result"
    }
   ],
   "source": [
    "[x_bar - (confidence_factor *standard_error), x_bar + (confidence_factor *standard_error)]"
   ]
  },
  {
   "cell_type": "code",
   "execution_count": 42,
   "metadata": {},
   "outputs": [
    {
     "data": {
      "text/plain": [
       "list"
      ]
     },
     "execution_count": 42,
     "metadata": {},
     "output_type": "execute_result"
    }
   ],
   "source": [
    "type(_)"
   ]
  },
  {
   "cell_type": "code",
   "execution_count": 12,
   "metadata": {},
   "outputs": [],
   "source": [
    "# %load -r 1-3 supplement.py\n"
   ]
  },
  {
   "cell_type": "code",
   "execution_count": null,
   "metadata": {},
   "outputs": [],
   "source": []
  },
  {
   "cell_type": "code",
   "execution_count": 26,
   "metadata": {},
   "outputs": [
    {
     "data": {
      "text/plain": [
       "(13.231818645783651, 15.909181354216344)"
      ]
     },
     "execution_count": 26,
     "metadata": {},
     "output_type": "execute_result"
    }
   ],
   "source": [
    "sample = trip_durations.sample(n= 200)\n",
    "\n",
    "x_bar = sample.mean()\n",
    "\n",
    "z_critical = stats.norm.ppf(0.975)\n",
    "\n",
    "sigma = trip_durations.std()\n",
    "\n",
    "sample_size = 200\n",
    "\n",
    "standard_error = sigma/sample_size**0.5\n",
    "\n",
    "margin_error = z_critical * standard_error\n",
    "\n",
    "confidence_interval_95 = (x_bar - margin_error, x_bar + margin_error)\n",
    "\n",
    "confidence_interval_95"
   ]
  },
  {
   "cell_type": "code",
   "execution_count": null,
   "metadata": {},
   "outputs": [],
   "source": [
    "## Find confidence interval with %80 confidence"
   ]
  },
  {
   "cell_type": "code",
   "execution_count": 4,
   "metadata": {},
   "outputs": [],
   "source": [
    "# %load -r 5-11 supplement.py\n"
   ]
  },
  {
   "cell_type": "code",
   "execution_count": null,
   "metadata": {},
   "outputs": [],
   "source": [
    "plt.hist(sample)\n",
    "plt.title(\"Distribution of ONE Sub-Sample\")\n",
    "plt.xlabel(\"Duration in Hrs\")\n",
    "plt.ylabel(\"Frequency\")\n",
    "plt.show()"
   ]
  },
  {
   "cell_type": "code",
   "execution_count": null,
   "metadata": {},
   "outputs": [],
   "source": [
    "many_samples = []\n",
    "\n",
    "for i in range(1000):\n",
    "    i = np.random.choice(trip_durations, size=200)\n",
    "    many_samples.append(i.mean())"
   ]
  },
  {
   "cell_type": "code",
   "execution_count": null,
   "metadata": {},
   "outputs": [],
   "source": [
    "plt.hist(many_samples)\n",
    "plt.title(\"Distribution of Sample Means\")\n",
    "plt.xlabel(\"Duration in Hrs\")\n",
    "plt.ylabel(\"Frequency\")\n",
    "plt.show()"
   ]
  },
  {
   "cell_type": "code",
   "execution_count": null,
   "metadata": {},
   "outputs": [],
   "source": [
    "## do the similar calculations for %95 confidence level"
   ]
  },
  {
   "cell_type": "code",
   "execution_count": 6,
   "metadata": {},
   "outputs": [],
   "source": [
    "# %load -r 13-21 supplement.py\n"
   ]
  },
  {
   "cell_type": "markdown",
   "metadata": {},
   "source": [
    "#### Example 2:\n",
    "The EPA considers indoor radon levels above 4 picocuries per liter (pCi/L) of air to be high enough to warrant amelioration efforts.  Tests in a sample of 200 Centre County Pennsylvania homes found 127 (63.5%) of these sampled households to have indoor radon levels above 4 pCi/L.  What is the population value being estimated by this sample percentage? What is the standard error of the corresponding sample proportion? What is the 95% confidence interval?\""
   ]
  },
  {
   "cell_type": "code",
   "execution_count": null,
   "metadata": {},
   "outputs": [],
   "source": [
    "p = 0.635\n",
    "std_error = (p*(1-p))/(200**0.5)\n",
    "\n",
    "critical_value = scs.norm.ppf(0.975)\n",
    "margin_of_error = critical_value*std_error\n",
    "confidence_interval = (p - margin_of_error, p + margin_of_error)\n",
    "print(confidence_interval)"
   ]
  },
  {
   "cell_type": "markdown",
   "metadata": {},
   "source": [
    "### Using the t-distribution\n",
    "\n",
    "1. You are inspecting a hardware factory and want to construct a 90% confidence interval of acceptable screw lengths. You draw a sample of 30 screws and calculate their mean length as 4.8 centimeters and the standard deviation as 0.4 centimeters. What are the bounds of your confidence interval?\n"
   ]
  },
  {
   "cell_type": "code",
   "execution_count": null,
   "metadata": {},
   "outputs": [],
   "source": [
    "import scipy.stats as scs\n",
    "n = 30\n",
    "mean = 4.8\n",
    "t_value = scs.t.ppf(0.95, n-1)\n",
    "margin_error = t_value * 0.4/(n**0.5)\n",
    "confidence_interval = (mean - margin_error, mean + margin_error)\n"
   ]
  },
  {
   "cell_type": "code",
   "execution_count": null,
   "metadata": {},
   "outputs": [],
   "source": [
    "confidence_interval"
   ]
  },
  {
   "cell_type": "markdown",
   "metadata": {},
   "source": [
    "**Q:** Let's assume that we have a sample of size=49 and we know the standard deviation of the population is $\\sigma = 5$. If we know that the sample mean is $\\bar{x} = 20$. What might be a good estimate for the population mean if we also know that the population mean is bigger than 20?"
   ]
  },
  {
   "cell_type": "code",
   "execution_count": null,
   "metadata": {},
   "outputs": [],
   "source": [
    "import matplotlib.pyplot as plt\n",
    "import numpy as np\n",
    "import scipy.stats as stats\n",
    "import math\n",
    "%matplotlib inline\n",
    "\n",
    "\n",
    "#suppose population mu is 21\n",
    "mu = 20\n",
    "# sample mean gives us a point estimator\n",
    "point_estimator = 19.5\n",
    "\n",
    "# we know population variance is 49\n",
    "std_error = 5/(np.sqrt(49))\n",
    "\n",
    "\n",
    "# how much confidence do we require\n",
    "confidence = 0.95\n",
    "\n",
    "# alpha \n",
    "alpha = 1- confidence\n",
    "\n",
    "# due to symmetry we divided alpha by 2\n",
    "# note that to find z_alpha_over_2 we used \n",
    "# standard normal distribution\n",
    "\n",
    "z_alpha_over_2 = np.abs(stats.norm.ppf(alpha/2))\n",
    "\n",
    "# print(z_alpha_over_2)\n",
    "\n",
    "\n",
    "# upper bound gives us a value so that\n",
    "# 2*(the area between point_estimator - upper_bound) = confidence\n",
    "\n",
    "upper_bound = point_estimator + z_alpha_over_2* std_error\n",
    "print(upper_bound)\n",
    "\n",
    "# now let's plot these\n",
    "\n",
    "# a normal distribution with mean=mu and std=sigma\n",
    "x = np.linspace(mu - 4*std_error, mu + 4*std_error, 100)\n",
    "plt.plot(x, stats.norm.pdf(x, mu, std_error))\n",
    "\n",
    "# a vertical line to mark point estimator\n",
    "plt.vlines(point_estimator, ymin=0,\n",
    "           ymax = stats.norm.pdf(point_estimator, mu, std_error))\n",
    "\n",
    "# a vertical line for population mu\n",
    "plt.vlines(mu, ymin=0,\n",
    "           ymax = stats.norm.pdf(mu, mu, std_error),\n",
    "          color = 'g')\n",
    "\n",
    "# a vertical line for upper bound\n",
    "plt.vlines(upper_bound, ymin=0,\n",
    "           ymax = stats.norm.pdf(upper_bound, \n",
    "                                 mu, std_error))\n",
    "\n",
    "\n",
    "# fill the area between upper_bound and point_estimator\n",
    "plt.fill_between(x= np.linspace(point_estimator, upper_bound, 100), \n",
    "                 y1= stats.norm.pdf(np.linspace(point_estimator,\n",
    "                                                upper_bound, 100), mu, std_error) ,\n",
    "                 facecolor='blue',\n",
    "                 alpha=0.35, \n",
    "                 label= 'btwn point estimator and\\n upper bound')\n",
    "\n",
    "# fill the area between point estimator and the left of it\n",
    "plt.fill_between(x= np.linspace(mu - 4*std_error, point_estimator, 100), \n",
    "                 y1= stats.norm.pdf(np.linspace(mu - 4*std_error, point_estimator,100), mu, std_error) ,\n",
    "                 facecolor='red',\n",
    "                 alpha=0.35, \n",
    "                 label= 'red area %.3f'%(stats.norm.cdf(point_estimator, mu, std_error)))\n",
    "\n",
    "plt.legend(loc = 'upper right')\n",
    "plt.show()"
   ]
  },
  {
   "cell_type": "code",
   "execution_count": null,
   "metadata": {},
   "outputs": [],
   "source": []
  }
 ],
 "metadata": {
  "kernelspec": {
   "display_name": "Python 3",
   "language": "python",
   "name": "python3"
  },
  "language_info": {
   "codemirror_mode": {
    "name": "ipython",
    "version": 3
   },
   "file_extension": ".py",
   "mimetype": "text/x-python",
   "name": "python",
   "nbconvert_exporter": "python",
   "pygments_lexer": "ipython3",
   "version": "3.7.4"
  },
  "toc": {
   "base_numbering": 1,
   "nav_menu": {},
   "number_sections": true,
   "sideBar": true,
   "skip_h1_title": false,
   "title_cell": "Table of Contents",
   "title_sidebar": "Contents",
   "toc_cell": false,
   "toc_position": {},
   "toc_section_display": true,
   "toc_window_display": false
  }
 },
 "nbformat": 4,
 "nbformat_minor": 4
}
