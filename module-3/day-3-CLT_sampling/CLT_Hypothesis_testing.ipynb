{
 "cells": [
  {
   "cell_type": "markdown",
   "metadata": {},
   "source": [
    "__Agenda__\n",
    "\n",
    "- Difference between population and sample\n",
    "- How can we get a good sample?\n",
    "- Point estimators from sample\n",
    "- Sampling distribution, especially sampling distribution of the mean\n",
    "- Central Limit Theorem - statement and use of it.\n",
    "- Creating confidence intervals around sample mean using CLT\n",
    "- Recap\n",
    "\n",
    "\n",
    "# Sampling Distributions\n",
    "\n",
    "## Population vs Sample\n",
    "\n",
    "__population__ A population is the set of all elements of interest in a study. (Finite population and infinite population)\n",
    "\n",
    "__sample__ A sample is a subset of the population.\n",
    "\n",
    "### Scenario\n",
    "\n",
    "The mayor's office has hired Flatiron Data Science Immersive students to determine a way to fix traffic congestion. A good starting point is to determine out what proportion of the population of DC owns a car.\n",
    "\n",
    "In order for us to make any determinations about a population, we must first get information about it.\n",
    "\n",
    "Because it's impractical to ever usually get data about *everyone* in a population, we must take a sample.\n",
    "\n",
    "Our sample should be:\n",
    "\n",
    "* Randomly selected- every item should have an *equal* chance of being selected\n",
    "* Representative of our population\n",
    "\n",
    "![pop](./img/sample_pop.png)\n",
    "\n",
    "\n",
    "**Random sampling is not easy to do, let's look at an example:**\n",
    "\n",
    "Imagine you are trying to determine what proportion of DC metro area people own a car\n",
    "\n",
    "* Stand outside of Flatiron at 12 pm and ask random people until *n* responses\n",
    "\n",
    "\n",
    "* Go to a randomly assigned street corner and at a random time and ask *n* people if they own a car\n",
    "\n",
    "\n",
    "__Objective of Sampling__\n",
    "\n",
    "When we gather a sample, we are trying to minimize the bias of our sample while also minimizing our cost.\n",
    "\n",
    "\n",
    "## Point Estimates\n",
    "\n",
    "!! Very important observation!!: We can consider random sampling as an 'random experiment' and then when we calculate mean, variance, standard deviation, median etc. these are functions on the outcomes of this experiment. We have a name for such functions can you remember it?\n",
    "\n",
    "![imgsample](./img/sample_stats.png)\n",
    "\n",
    "### It's your turn :)\n",
    "\n",
    "[Download data](https://www.kaggle.com/ishaanv/ISLR-Auto)\n",
    "\n",
    "[UCI-repo](https://archive.ics.uci.edu/ml/datasets/auto+mpg)"
   ]
  },
  {
   "cell_type": "code",
   "execution_count": 1,
   "metadata": {},
   "outputs": [],
   "source": [
    "import pandas as pd \n",
    "\n",
    "import numpy as np"
   ]
  },
  {
   "cell_type": "markdown",
   "metadata": {},
   "source": [
    "Take two random samples of 30 cars from auto dataset and find both sampling mean and standard deviation for mpg\n",
    "\n"
   ]
  },
  {
   "cell_type": "code",
   "execution_count": 2,
   "metadata": {},
   "outputs": [],
   "source": [
    "import pickle"
   ]
  },
  {
   "cell_type": "markdown",
   "metadata": {},
   "source": [
    "We \"pickled\" two samples before and use these to work with"
   ]
  },
  {
   "cell_type": "code",
   "execution_count": 3,
   "metadata": {},
   "outputs": [],
   "source": [
    "pkl_obj = open('sample.pkl', 'rb')\n",
    "sample = pickle.load(pkl_obj)\n",
    "pkl_obj.close()"
   ]
  },
  {
   "cell_type": "markdown",
   "metadata": {},
   "source": [
    "Load the the second sample"
   ]
  },
  {
   "cell_type": "code",
   "execution_count": 4,
   "metadata": {},
   "outputs": [],
   "source": [
    "pkl_obj = open('sample2.pkl', 'rb')\n",
    "\n",
    "sample2 = pickle.load(pkl_obj)\n",
    "pkl_obj.close()"
   ]
  },
  {
   "cell_type": "code",
<<<<<<< HEAD
   "execution_count": 5,
=======
   "execution_count": 8,
>>>>>>> 8133b1a2d4a9c9a62ac34906e6190eba4b5dfaef
   "metadata": {},
   "outputs": [
    {
     "data": {
      "text/html": [
       "<div>\n",
       "<style scoped>\n",
       "    .dataframe tbody tr th:only-of-type {\n",
       "        vertical-align: middle;\n",
       "    }\n",
       "\n",
       "    .dataframe tbody tr th {\n",
       "        vertical-align: top;\n",
       "    }\n",
       "\n",
       "    .dataframe thead th {\n",
       "        text-align: right;\n",
       "    }\n",
       "</style>\n",
       "<table border=\"1\" class=\"dataframe\">\n",
       "  <thead>\n",
       "    <tr style=\"text-align: right;\">\n",
       "      <th></th>\n",
       "      <th>mpg</th>\n",
       "      <th>cylinders</th>\n",
       "      <th>displacement</th>\n",
       "      <th>horsepower</th>\n",
       "      <th>weight</th>\n",
       "      <th>acceleration</th>\n",
       "      <th>model year</th>\n",
       "      <th>origin</th>\n",
       "      <th>car name</th>\n",
       "    </tr>\n",
       "  </thead>\n",
       "  <tbody>\n",
       "    <tr>\n",
<<<<<<< HEAD
       "      <td>332</td>\n",
       "      <td>35.0</td>\n",
       "      <td>4</td>\n",
       "      <td>122.0</td>\n",
       "      <td>88</td>\n",
       "      <td>2500</td>\n",
       "      <td>15.1</td>\n",
       "      <td>80</td>\n",
       "      <td>2</td>\n",
       "      <td>triumph tr7 coupe</td>\n",
       "    </tr>\n",
       "    <tr>\n",
       "      <td>123</td>\n",
       "      <td>11.0</td>\n",
       "      <td>8</td>\n",
       "      <td>350.0</td>\n",
       "      <td>180</td>\n",
       "      <td>3664</td>\n",
       "      <td>11.0</td>\n",
       "      <td>73</td>\n",
       "      <td>1</td>\n",
       "      <td>oldsmobile omega</td>\n",
       "    </tr>\n",
       "    <tr>\n",
       "      <td>376</td>\n",
       "      <td>34.0</td>\n",
       "      <td>4</td>\n",
       "      <td>108.0</td>\n",
       "      <td>70</td>\n",
       "      <td>2245</td>\n",
       "      <td>16.9</td>\n",
       "      <td>82</td>\n",
       "      <td>3</td>\n",
       "      <td>toyota corolla</td>\n",
       "    </tr>\n",
       "    <tr>\n",
       "      <td>170</td>\n",
       "      <td>25.0</td>\n",
       "      <td>4</td>\n",
       "      <td>90.0</td>\n",
       "      <td>71</td>\n",
       "      <td>2223</td>\n",
       "      <td>16.5</td>\n",
       "      <td>75</td>\n",
       "      <td>2</td>\n",
       "      <td>volkswagen dasher</td>\n",
       "    </tr>\n",
       "    <tr>\n",
       "      <td>96</td>\n",
       "      <td>18.0</td>\n",
       "      <td>6</td>\n",
       "      <td>225.0</td>\n",
       "      <td>105</td>\n",
       "      <td>3121</td>\n",
       "      <td>16.5</td>\n",
       "      <td>73</td>\n",
       "      <td>1</td>\n",
       "      <td>plymouth valiant</td>\n",
       "    </tr>\n",
       "  </tbody>\n",
       "</table>\n",
       "</div>"
      ],
      "text/plain": [
       "      mpg  cylinders  displacement  horsepower  weight  acceleration  \\\n",
       "332  35.0          4         122.0          88    2500          15.1   \n",
       "123  11.0          8         350.0         180    3664          11.0   \n",
       "376  34.0          4         108.0          70    2245          16.9   \n",
       "170  25.0          4          90.0          71    2223          16.5   \n",
       "96   18.0          6         225.0         105    3121          16.5   \n",
       "\n",
       "     model year  origin           car name  \n",
       "332          80       2  triumph tr7 coupe  \n",
       "123          73       1   oldsmobile omega  \n",
       "376          82       3     toyota corolla  \n",
       "170          75       2  volkswagen dasher  \n",
       "96           73       1   plymouth valiant  "
      ]
     },
     "execution_count": 5,
     "metadata": {},
     "output_type": "execute_result"
    }
   ],
   "source": [
    "sample.head()"
   ]
  },
  {
   "cell_type": "code",
   "execution_count": 6,
   "metadata": {},
   "outputs": [
    {
     "data": {
      "text/html": [
       "<div>\n",
       "<style scoped>\n",
       "    .dataframe tbody tr th:only-of-type {\n",
       "        vertical-align: middle;\n",
       "    }\n",
       "\n",
       "    .dataframe tbody tr th {\n",
       "        vertical-align: top;\n",
       "    }\n",
       "\n",
       "    .dataframe thead th {\n",
       "        text-align: right;\n",
       "    }\n",
       "</style>\n",
       "<table border=\"1\" class=\"dataframe\">\n",
       "  <thead>\n",
       "    <tr style=\"text-align: right;\">\n",
       "      <th></th>\n",
       "      <th>mpg</th>\n",
       "      <th>cylinders</th>\n",
       "      <th>displacement</th>\n",
       "      <th>horsepower</th>\n",
       "      <th>weight</th>\n",
       "      <th>acceleration</th>\n",
       "      <th>model year</th>\n",
       "      <th>origin</th>\n",
       "      <th>car name</th>\n",
       "    </tr>\n",
       "  </thead>\n",
       "  <tbody>\n",
       "    <tr>\n",
       "      <td>12</td>\n",
=======
       "      <th>12</th>\n",
>>>>>>> 8133b1a2d4a9c9a62ac34906e6190eba4b5dfaef
       "      <td>15.0</td>\n",
       "      <td>8</td>\n",
       "      <td>400.0</td>\n",
       "      <td>150</td>\n",
       "      <td>3761</td>\n",
       "      <td>9.5</td>\n",
       "      <td>70</td>\n",
       "      <td>1</td>\n",
       "      <td>chevrolet monte carlo</td>\n",
       "    </tr>\n",
       "    <tr>\n",
<<<<<<< HEAD
       "      <td>195</td>\n",
=======
       "      <th>195</th>\n",
>>>>>>> 8133b1a2d4a9c9a62ac34906e6190eba4b5dfaef
       "      <td>29.0</td>\n",
       "      <td>4</td>\n",
       "      <td>90.0</td>\n",
       "      <td>70</td>\n",
       "      <td>1937</td>\n",
       "      <td>14.2</td>\n",
       "      <td>76</td>\n",
       "      <td>2</td>\n",
       "      <td>vw rabbit</td>\n",
       "    </tr>\n",
       "    <tr>\n",
<<<<<<< HEAD
       "      <td>287</td>\n",
=======
       "      <th>287</th>\n",
>>>>>>> 8133b1a2d4a9c9a62ac34906e6190eba4b5dfaef
       "      <td>16.9</td>\n",
       "      <td>8</td>\n",
       "      <td>350.0</td>\n",
       "      <td>155</td>\n",
       "      <td>4360</td>\n",
       "      <td>14.9</td>\n",
       "      <td>79</td>\n",
       "      <td>1</td>\n",
       "      <td>buick estate wagon (sw)</td>\n",
       "    </tr>\n",
       "    <tr>\n",
<<<<<<< HEAD
       "      <td>143</td>\n",
=======
       "      <th>143</th>\n",
>>>>>>> 8133b1a2d4a9c9a62ac34906e6190eba4b5dfaef
       "      <td>32.0</td>\n",
       "      <td>4</td>\n",
       "      <td>83.0</td>\n",
       "      <td>61</td>\n",
       "      <td>2003</td>\n",
       "      <td>19.0</td>\n",
       "      <td>74</td>\n",
       "      <td>3</td>\n",
       "      <td>datsun 710</td>\n",
       "    </tr>\n",
       "    <tr>\n",
<<<<<<< HEAD
       "      <td>383</td>\n",
=======
       "      <th>383</th>\n",
>>>>>>> 8133b1a2d4a9c9a62ac34906e6190eba4b5dfaef
       "      <td>22.0</td>\n",
       "      <td>6</td>\n",
       "      <td>232.0</td>\n",
       "      <td>112</td>\n",
       "      <td>2835</td>\n",
       "      <td>14.7</td>\n",
       "      <td>82</td>\n",
       "      <td>1</td>\n",
       "      <td>ford granada l</td>\n",
       "    </tr>\n",
       "  </tbody>\n",
       "</table>\n",
       "</div>"
      ],
      "text/plain": [
       "      mpg  cylinders  displacement  horsepower  weight  acceleration  \\\n",
       "12   15.0          8         400.0         150    3761           9.5   \n",
       "195  29.0          4          90.0          70    1937          14.2   \n",
       "287  16.9          8         350.0         155    4360          14.9   \n",
       "143  32.0          4          83.0          61    2003          19.0   \n",
       "383  22.0          6         232.0         112    2835          14.7   \n",
       "\n",
       "     model year  origin                 car name  \n",
       "12           70       1    chevrolet monte carlo  \n",
       "195          76       2                vw rabbit  \n",
       "287          79       1  buick estate wagon (sw)  \n",
       "143          74       3               datsun 710  \n",
       "383          82       1           ford granada l  "
      ]
     },
<<<<<<< HEAD
     "execution_count": 6,
=======
     "execution_count": 8,
>>>>>>> 8133b1a2d4a9c9a62ac34906e6190eba4b5dfaef
     "metadata": {},
     "output_type": "execute_result"
    }
   ],
   "source": [
    "sample2.head()"
   ]
  },
  {
   "cell_type": "code",
<<<<<<< HEAD
   "execution_count": null,
=======
   "execution_count": 15,
>>>>>>> 8133b1a2d4a9c9a62ac34906e6190eba4b5dfaef
   "metadata": {},
   "outputs": [],
   "source": [
    "# %load -r 24-30 supplement.py\n",
    "x1_bar = sample.mpg.mean()\n",
    "\n",
    "x2_bar = sample2.mpg.mean()\n",
    "\n",
    "s1_bar = sample.mpg.std()\n",
    "\n",
    "s2_bar = sample2.mpg.std()"
   ]
  },
  {
   "cell_type": "code",
   "execution_count": 11,
   "metadata": {},
   "outputs": [],
   "source": [
    "x2_bar = sample2['mpg'].mean()"
   ]
  },
  {
   "cell_type": "code",
   "execution_count": 12,
   "metadata": {},
   "outputs": [],
   "source": [
    "x1_bar = sample['mpg'].mean()"
   ]
  },
  {
   "cell_type": "code",
   "execution_count": 13,
   "metadata": {},
   "outputs": [],
   "source": [
    "s2_bar = sample2['mpg'].std()"
   ]
  },
  {
   "cell_type": "code",
   "execution_count": 14,
   "metadata": {},
   "outputs": [],
   "source": [
    "s1_bar = sample['mpg'].std()"
   ]
  },
  {
   "cell_type": "markdown",
   "metadata": {},
   "source": [
    "Here let's print them"
   ]
  },
  {
   "cell_type": "code",
<<<<<<< HEAD
   "execution_count": 15,
=======
   "execution_count": 16,
>>>>>>> 8133b1a2d4a9c9a62ac34906e6190eba4b5dfaef
   "metadata": {},
   "outputs": [
    {
     "name": "stdout",
     "output_type": "stream",
     "text": [
      "Sampling mean for the first sample: 24.146666666666665 \n",
      "        \n",
      "Sampling Standard Deviation for the first sample: 9.922274952342587\n",
      "\n",
      "Sampling mean for the second sample: 21.200000000000003 \n",
      "        \n",
      "Sampling Standard Deviation for the second sample: 6.561696584646803\n",
      "\n"
     ]
    }
   ],
   "source": [
    "print(\"\"\"Sampling mean for the first sample: {} \n",
    "        \\nSampling Standard Deviation for the first sample: {}\\n\"\"\".format(x1_bar, s1_bar))\n",
    "\n",
    "print(\"\"\"Sampling mean for the second sample: {} \n",
    "        \\nSampling Standard Deviation for the second sample: {}\\n\"\"\".format(x2_bar, s2_bar))"
   ]
  },
  {
   "cell_type": "markdown",
   "metadata": {},
   "source": [
    "Let's load the original data. In this case, we will consider this data as \"population\""
   ]
  },
  {
   "cell_type": "code",
<<<<<<< HEAD
   "execution_count": 18,
=======
   "execution_count": 19,
>>>>>>> 8133b1a2d4a9c9a62ac34906e6190eba4b5dfaef
   "metadata": {},
   "outputs": [],
   "source": [
    "# %load -r 32-35 supplement.py\n",
    "auto = pd.read_csv('data/auto-mpg.csv')\n",
    "mu = auto.mpg.mean()\n",
    "sigma = auto.mpg.std()"
<<<<<<< HEAD
=======
   ]
  },
  {
   "cell_type": "code",
   "execution_count": 22,
   "metadata": {},
   "outputs": [
    {
     "data": {
      "text/plain": [
       "(392, 9)"
      ]
     },
     "execution_count": 22,
     "metadata": {},
     "output_type": "execute_result"
    }
   ],
   "source": [
    "auto.shape"
>>>>>>> 8133b1a2d4a9c9a62ac34906e6190eba4b5dfaef
   ]
  },
  {
   "cell_type": "markdown",
   "metadata": {},
   "source": [
    "Here print population parameters $\\mu$ and $\\sigma$"
   ]
  },
  {
   "cell_type": "code",
<<<<<<< HEAD
   "execution_count": 19,
=======
   "execution_count": 20,
>>>>>>> 8133b1a2d4a9c9a62ac34906e6190eba4b5dfaef
   "metadata": {},
   "outputs": [
    {
     "name": "stdout",
     "output_type": "stream",
     "text": [
      "Population mean is 23.44591836734694 \n",
      "        \n",
      "Population standard deviation is 7.805007486571799\n",
      "\n"
     ]
    }
   ],
   "source": [
    "print(\"\"\"Population mean is {} \n",
    "        \\nPopulation standard deviation is {}\\n\"\"\".format(mu, sigma))\n",
    "\n"
   ]
  },
  {
   "cell_type": "code",
   "execution_count": 40,
   "metadata": {},
   "outputs": [
    {
     "data": {
      "text/plain": [
       "0.551543289325507"
      ]
     },
     "execution_count": 40,
     "metadata": {},
     "output_type": "execute_result"
    }
   ],
   "source": [
    "7.8/(200**.5)"
   ]
  },
  {
   "cell_type": "markdown",
   "metadata": {},
   "source": [
    "The difference between the sample mean and the population mean is known as the **Sampling Error**.  \n",
    "\n",
    ">When using the sample mean to estimate the population mean, some possible error will be involved since random sample means are also random.\n",
    "\n",
    "### It's your turn again :)\n",
    "\n",
    "Repeat the sampling process you did above 1000 times and plot the result."
   ]
  },
  {
   "cell_type": "code",
<<<<<<< HEAD
   "execution_count": 20,
=======
   "execution_count": 30,
>>>>>>> 8133b1a2d4a9c9a62ac34906e6190eba4b5dfaef
   "metadata": {},
   "outputs": [],
   "source": [
    "import matplotlib.pyplot as plt\n",
    "plt.style.use('fivethirtyeight')\n",
    "\n",
    "%matplotlib inline"
   ]
  },
  {
   "cell_type": "code",
<<<<<<< HEAD
   "execution_count": 36,
   "metadata": {},
   "outputs": [],
   "source": [
    "sample_means = []\n",
    "\n",
    "for i in range(1000):\n",
    "    mean = auto.sample(n=30).mpg.mean()\n",
    "    sample_means.append(mean)"
   ]
  },
  {
   "cell_type": "code",
   "execution_count": 24,
   "metadata": {},
   "outputs": [],
   "source": [
    "thousand_rand_samp = [auto.sample(n = 30).mpg.mean() for i in range(1000)]"
=======
   "execution_count": 23,
   "metadata": {},
   "outputs": [],
   "source": [
    "sample_means = []\n",
    "\n",
    "\n",
    "for i in range(1000):\n",
    "    mean = auto.sample(n=30).mpg.mean()\n",
    "    sample_means.append(mean)"
   ]
  },
  {
   "cell_type": "code",
   "execution_count": 27,
   "metadata": {},
   "outputs": [],
   "source": [
    "sample_means2 = [auto.sample(n=30).mpg.mean() for i in range(1000)]"
>>>>>>> 8133b1a2d4a9c9a62ac34906e6190eba4b5dfaef
   ]
  },
  {
   "cell_type": "code",
   "execution_count": 28,
   "metadata": {},
<<<<<<< HEAD
   "outputs": [],
   "source": [
    "import statistics"
   ]
  },
  {
   "cell_type": "code",
   "execution_count": 35,
   "metadata": {},
   "outputs": [
    {
     "data": {
      "text/plain": [
       "23.41741999999999"
      ]
     },
     "execution_count": 35,
     "metadata": {},
     "output_type": "execute_result"
    }
   ],
   "source": [
    "sum(thousand_rand_samp)/len(thousand_rand_samp)"
   ]
  },
  {
   "cell_type": "code",
   "execution_count": 39,
   "metadata": {},
=======
>>>>>>> 8133b1a2d4a9c9a62ac34906e6190eba4b5dfaef
   "outputs": [
    {
     "data": {
      "text/plain": [
<<<<<<< HEAD
       "['bmh',\n",
       " 'classic',\n",
       " 'dark_background',\n",
       " 'fast',\n",
       " 'fivethirtyeight',\n",
       " 'ggplot',\n",
       " 'grayscale',\n",
       " 'seaborn-bright',\n",
       " 'seaborn-colorblind',\n",
       " 'seaborn-dark-palette',\n",
       " 'seaborn-dark',\n",
       " 'seaborn-darkgrid',\n",
       " 'seaborn-deep',\n",
       " 'seaborn-muted',\n",
       " 'seaborn-notebook',\n",
       " 'seaborn-paper',\n",
       " 'seaborn-pastel',\n",
       " 'seaborn-poster',\n",
       " 'seaborn-talk',\n",
       " 'seaborn-ticks',\n",
       " 'seaborn-white',\n",
       " 'seaborn-whitegrid',\n",
       " 'seaborn',\n",
       " 'Solarize_Light2',\n",
       " 'tableau-colorblind10',\n",
       " '_classic_test']"
      ]
     },
     "execution_count": 39,
=======
       "1000"
      ]
     },
     "execution_count": 28,
>>>>>>> 8133b1a2d4a9c9a62ac34906e6190eba4b5dfaef
     "metadata": {},
     "output_type": "execute_result"
    }
   ],
   "source": [
<<<<<<< HEAD
    "plt.style.available"
=======
    "len(sample_means2)"
>>>>>>> 8133b1a2d4a9c9a62ac34906e6190eba4b5dfaef
   ]
  },
  {
   "cell_type": "code",
   "execution_count": null,
   "metadata": {},
   "outputs": [],
   "source": []
  },
  {
   "cell_type": "code",
   "execution_count": 32,
   "metadata": {},
   "outputs": [],
   "source": [
    "import matplotlib.pyplot as plt\n",
    "plt.style.use('fivethirtyeight')\n",
    "\n",
    "%matplotlib inline"
   ]
  },
  {
   "cell_type": "code",
   "execution_count": 34,
   "metadata": {},
   "outputs": [
    {
     "data": {
      "text/plain": [
       "(array([  4.,  18.,  64., 122., 189., 220., 190., 112.,  66.,  15.]),\n",
       " array([19.25666667, 20.01666667, 20.77666667, 21.53666667, 22.29666667,\n",
       "        23.05666667, 23.81666667, 24.57666667, 25.33666667, 26.09666667,\n",
       "        26.85666667]),\n",
       " <a list of 10 Patch objects>)"
      ]
     },
     "execution_count": 34,
     "metadata": {},
     "output_type": "execute_result"
    },
    {
     "data": {
      "image/png": "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\n",
      "text/plain": [
       "<Figure size 432x288 with 1 Axes>"
      ]
     },
     "metadata": {
      "needs_background": "light"
     },
     "output_type": "display_data"
    }
   ],
   "source": [
    "plt.hist(sample_means)"
   ]
  },
  {
   "cell_type": "code",
   "execution_count": 38,
   "metadata": {},
   "outputs": [
    {
     "data": {
      "image/png": "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\n",
      "text/plain": [
       "<Figure size 432x288 with 1 Axes>"
      ]
     },
     "metadata": {
      "needs_background": "light"
     },
     "output_type": "display_data"
    }
   ],
   "source": [
<<<<<<< HEAD
    "# %load -r 9-22 supplement.py\n"
   ]
  },
  {
   "cell_type": "code",
   "execution_count": 37,
   "metadata": {},
   "outputs": [
    {
     "data": {
      "text/plain": [
       "(array([  6.,  37.,  95., 199., 244., 193., 143.,  64.,  17.,   2.]),\n",
       " array([19.29666667, 20.17733333, 21.058     , 21.93866667, 22.81933333,\n",
       "        23.7       , 24.58066667, 25.46133333, 26.342     , 27.22266667,\n",
       "        28.10333333]),\n",
       " <a list of 10 Patch objects>)"
      ]
     },
     "execution_count": 37,
     "metadata": {},
     "output_type": "execute_result"
    },
    {
     "data": {
      "image/png": "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\n",
      "text/plain": [
       "<Figure size 432x288 with 1 Axes>"
      ]
     },
     "metadata": {
      "needs_background": "light"
     },
     "output_type": "display_data"
    }
   ],
   "source": [
    "plt.hist(sample_means)"
   ]
  },
  {
   "cell_type": "code",
   "execution_count": 21,
   "metadata": {},
   "outputs": [
    {
     "data": {
      "image/png": "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\n",
      "text/plain": [
       "<Figure size 432x288 with 1 Axes>"
      ]
     },
     "metadata": {
      "needs_background": "light"
     },
     "output_type": "display_data"
    }
   ],
   "source": [
    "thousand_rand_samp = [auto.sample(n = 50).mpg.mean() for i in range(1000)]\n",
=======
    "# %load -r 9-22 supplement.py\n",
    "# taking repeating samples from auto dataset\n",
    "thousand_rand_samp = [auto.sample(n = 2).mpg.mean() for i in range(1000)]\n",
>>>>>>> 8133b1a2d4a9c9a62ac34906e6190eba4b5dfaef
    "\n",
    "bars = plt.hist(thousand_rand_samp)\n",
    "\n",
    "plt.vlines(x = mu, ymin= 0,\n",
    "           ymax = bars[0].max() +1,\n",
    "           color = 'r', label = 'pop mean')\n",
    "plt.xticks(range(17,29))\n",
    "plt.xlabel('sample_means')\n",
    "plt.ylabel('frequencies of sample means')\n",
    "\n",
    "plt.legend()\n",
    "plt.show()"
   ]
  },
  {
   "cell_type": "code",
<<<<<<< HEAD
   "execution_count": 41,
   "metadata": {},
   "outputs": [],
   "source": [
    "sigma = auto.mpg.std()"
=======
   "execution_count": 42,
   "metadata": {},
   "outputs": [
    {
     "data": {
      "image/png": "iVBORw0KGgoAAAANSUhEUgAAAbQAAAEGCAYAAAANNmA4AAAABHNCSVQICAgIfAhkiAAAAAlwSFlzAAALEgAACxIB0t1+/AAAADh0RVh0U29mdHdhcmUAbWF0cGxvdGxpYiB2ZXJzaW9uMy4xLjAsIGh0dHA6Ly9tYXRwbG90bGliLm9yZy+17YcXAAAgAElEQVR4nO3deZgcZb328e89kMWQkCAIBBKIyLCEg4IoJwoc0SACyqaAbMp2FEFfhRdlU5EtR1QEfV9BQLawBAgHEERWQZYYdk9kCzgRE5IQEkAyIWzZfuePqgnNMDM83dPV3em5P9fV11RXVVfd3Zn0b6rqqedRRGBmZraia6l3ADMzs2pwQTMzs6bggmZmZk3BBc3MzJqCC5qZmTWFlesdoFLt7e1unmlm1uSGDh2q1HV9hGZmZk3BBc3MzJqCC1oVtLW11TsC4BydNUoOaJwszvFuzvFujZKjUi5oZmbWFFzQzMysKaywrRzNzGotIli4cCHLli2r6nYHDhxIe3t7Vbe5ouRoaWlh8ODBSMmNGbvlgmZmlmjhwoUMGDCA/v37V3W7AwYMYODAgVXd5oqSY9GiRSxcuJAhQ4b0els+5WhmlmjZsmVVL2Z9Xf/+/at2xOuCZmZmTcEFzczMmoKvoZlZj4YOG/au5+3z59cpiVnPXNDMrCzDLpldha0Mgkldb2f+IetWYfu10bnYV7yd/Of7/bEwY8YM9tprL7baaisef/xxNtxwQ8477zwGDRrEvffey49+9COWLl3KlltuyVlnncWAAQPYfPPN+fKXv8z9998PwIUXXsgGG2zwru3+9Kc/ZcaMGcyZM4fnnnuOcePG8eijj/KnP/2J4cOHc/XVV9OvXz+mTJnCiSeeyOuvv87qq6/Oueeey9prr8348eO59NJLWbRoERtssAHnn38+gwYN4ogjjmDIkCFMmTKFuXPncuqpp7L77rtX5TPrik85mpmtQNra2jj44IOZPHkyQ4YM4aKLLuKtt97iyCOP5JJLLmHy5MksWbKEiy66aPlrhgwZwt133803vvENTjjhhC63O336dK644gomTJjA4YcfznbbbcfkyZMZOHAgt99+O4sXL+bYY4/lsssu49577+XAAw/ktNNOA2DXXXflz3/+M3/5y1/YeOONufzyy5dvd+7cudx2221cc801nHzyyYV+Ni5oZmYrkBEjRjBmzBgA9tlnHx544AHa2tpYb7312HDDDQHYf//9mTx58vLX7LXXXst/Pvzww11ud4cddqBfv35sttlmLF26lB122AGA0aNH8/zzz9PW1sbUqVPZY4892HbbbTnzzDN54YUXAHj66afZeeed+fSnP83EiRN55plnlm/3i1/8Ii0tLWyyySa89NJL1f9ASviUo5nZCkwSEemjaXV3A/OAAQOA7Ebnfv36LV+vpaWFpUuXEhFssskm3Hnnne957ZFHHsmVV17J5ptvzpVXXsmkSZPes12grJyV8BGamVmF2ufPr8pj7osvJje2mTVr1vKjrOuuu44xY8aw0UYbMXPmTJ577jkArr76arbZZpvlr7nhhhsAuP766/nkJz9Z0XttbW3l5ZdfXr7vxYsXM3XqVCC74Xzttddm8eLFXHvttRVtvxp8hGZmtgLZeOONueqqqzjqqKP4yEc+wmGHHcbAgQM555xzOOigg5Y3Cjn00EOXv+btt99m7NixLFu27F3X1srRv39/xo8fz3HHHceCBQtYunQpRxxxBJtuuik//OEPGTt2LCNHjmT06NEsXLiwWm+3LCr6ELAojTRidVtbG62trfWO4RwNmgMaJ0slOTq35NPZT1Uz0nvUspVjuZ9He3s7Q4cOff8Vy/TWW28ldTk1Y8YM9t13Xx544IHkbW+++ebcc889rL766lXLUW09fa7ljFjtIzSzFUjvm8x331y+Ow3zl6PZ+3BBMzNbQay//vplHZ0BPPHEEwWlaTxuFGJmZk0h6QhN0mjglYiYK2kw8ANgKXBmRLxRZEAzM7MUqUdoE4COK8NnAv8BfAo4v4hQZmaNqKWlhUWLFtU7RlNZtGgRLS3VOVmYeg1tVEQ8q+xOuz2BzYA3gX9WJYWZ2Qpg8ODBLFy4kDfffLOq212wYAGrrrpqVbe5ouToGLG6GlIL2tuShgCjgZkR8bKklYH6D7FqZlYjkqoysnJn8+bNY+TIkVXf7oqao1KpBW0CcDcwBPhNPu/j+AjNzMwaRFJBi4ijJe0ILI6IP+ezlwFHF5bMzMysDMn3oUXEHZ2eP1r9OGZmZpVJbbb/YWAcsAXwrqt3EbFeAbnMzMzKUs41tH8AxwC+78zMzBpOakHbDNgmIpYVGcbMzKxSqXez3QdsWWQQMzOz3kg9QpsO3C7peuDF0gURcVK1Q5mZmZUrtaCtAvwB6AesuHfdmZlZ00q9D+2Q3uxE0kjgMmBtsvvXLoiIX0v6IHANMIrsKHCfiHg172Lr18AuZI1QDo6Iv/Ymg5mZNbeyeoSUNETShyVt0PFIfOkS4JiI2BQYA3w778H/eOCuiGgF7sqfA+wMtOaPbwK/LSenmZn1PUkFTdJoSf8DtAPT8kdb/nhfETGn4wgrIl4DpgLrArsD4/PVxgN75NO7A5dF5kFgmKThaW/JzMz6otRraOcCfwY+S9Z/4yjgp8DkcncoaRRZi8mHgLUiYg5kRU/Smvlq6wIzS142K583p6tttrUl1dVCNUIGcI7OGiUHVCvLoCpso7HV+t+sUX5HnOMdra2tFb0utaB9DPh8RCyWpIhol/QD4EngitSd5YODXgccFRELsktlXa/axbzobuVK33y1tLW11T2DczRuDqhilkmze7+NBlfLf7NG+R1xjupIvYb2FlkLR4CXJa2Xv3b11B1J6kdWzK6MiOvz2XM7TiXmP+fl82fx7taUI4AXUvdlZmZ9T2pBux/YJ5/+b+BW4F6yIWXeV95q8SJgakScVbLoJuCgfPog4MaS+V9XZgzQ3nFq0szMrCupzfb3KXl6ItmpxiFkTfFTbAN8DXhC0pSS7ZwBTJR0GPA8sHe+7BayJvvTyJrt9+q2ATMza37Jw8cASGoha8iRfN0MICIm0fV1MYCxXawfwLfL2YeZmfVtqc32V5M0gexa2rR83m6STi8ynJmZWarUa2i/JbsHbX1gUT7vAeCrRYQyMzMrV+opx7HAOnmz/QCIiJdK7hszMzOrq9QjtHZgjdIZedN9tzw0M7OGkFrQLgSuk/RZoEXSp8i6qjqvsGRmZmZlSD3l+DOyBiHnkN1gfTFwPlmP+GZmZnWXeh9aAL/KH2ZmZg0n+T60vFPhjwKDS+dHxITqRjIzMytfUkGTdAJwEvAU8GbJogBc0MzMrO5Sj9COAbaKiKeLDGNmZlap1FaOrwDTC8xhZmbWK6lHaEcBF0j6Fe8M8QJARDxf9VRmZmZlSi1o/YEdgf07zQ9gpaomMjMzq0DqKcdzyYZ7WZXsPrSOR/+CcpmZmZUl9QhtZeCSiFhaZBgzM7NKpRa0M4HjJf1XfpO1mVkhhl0yu4Z7GwSTZjP/kHVruE8rSmpB+y6wNnCipFdKF0TEelVPZWZmVqbUgnZgoSnMzMx6KbUvx3uLDmJmZtYbqa0czczMGpoLmpmZNQUXNDMzawplFTRJLZKGFxXGzMysUkkFTdIwSRPIRq2els/bTdLpRYYzMzNLlXqEdh7QDqwPLMrnPQB8tYhQZmZm5Uq9D20ssE5ELJYUABHxkqQ1i4tmZmaWLvUIrR1Yo3SGpPWAOVVPZGZmVoHUgnYhcJ2kzwItkj4FjCc7FWlmZlZ3qaccf0bWIOQcsmFjLgbOB35dUC4zM7OypHZ9FcCv8oeZmVnD6bagSfpcygYi4u7qxTEzM6tMT0doFyW8PoANqpTFzMysYt0WtIj4cC2DmJmZ9UZqoxAkrQSMAdYBZgMPRcTSooKZmZmVI6mgSfoo8HtgIDALGAG8JenLETGlwHxmZmZJUu9Du5isyf66EbE1sC7wG9Kus5mZmRUutaBtBPwqb77f0Yz/10BryoslXSxpnqQnS+adLGm2pCn5Y5eSZSdImibpWUlfSH87ZmbWV6UWtFuA3TrN2xX4Y+LrLwV26mL+2RGxRf64BUDSaGBfYLP8Nefm1+/MzMy6ldooZCXgakmPATOBkcBWwI2SLutYKSK+3tWLI+I+SaMS97U7cHVEvA38U9I0YGuy3v3NzMy6lFrQnswfHZ4Gbq/C/r8j6evAo8AxEfEq2fW5B0vWmZXP61ZbW1sVovROI2QA5+isUXJAtbIMqsI2rLNG+D1phAzQGDlaW5OuZr1HatdXp1S09Z79FjiN7Obs04BfAocC6ipCTxuq9M1XS1tbW90zOEfj5oAqZpk0u/fbsPeo9+9Jo/yuNkqOSpVzH9oo4KPA4NL5ETGhkh1HxNySbf8OuDl/OovslGaHEcALlezDzMz6jtT70E4ATgKeAt4sWRRARQVN0vCI6BhPbU/eOaV5EzBB0llkN3G3Ag9Xsg8zM+s7Uo/QjgG2ioinK9mJpKuA7YE1JM0CfgJsL2kLsqI4HTgcICKekjSR7DrdEuDb7pHEGtWwS1JPAQ7y6UKzgqUWtFfIik5FImK/LmZ3e1N2RIwDxlW6PzMz63tSC9pRwAWSfgXMK10QEc9XPZWZmVmZUgtaf2BHYP9O84PsHjUzM7O6Su0p5FzgRGBVoF/Jo39BuczMzMqSeoS2MnCJG2eYmVmjSj1COxM4XlJXNz2bmZnVXeoR2neBtYETJb1SuiAi1qt6KjMzszKlFrQDC01hZmbWS6l9Od5bdBAzM7PeKKcvxy2A7YA1KOlAOCJOKiCXmZlZWZIahUj6JvAX4HPAccDmZN1hbVhcNDMzs3SprRyPBXaKiD2BN/OfewGLC0tmZmZWhtSCtmZE3J9PL5PUEhG3ArsWlMvMzKwsqdfQZkkaFRHTgb8Du0t6GVhUWDIzM7MypBa0nwObkvW4fyrw32TdXn23mFhmZmblSW22f2nJ9K2SVgP6R8TCooKZmZmVI7WV44ckDc6nVwIOAPaUlHoNzszMrFCpBelmoDWfHgd8n6zZ/i+LCGVmZlau1GtoGwFT8ukDgU8DC4GngKMLyGVmZlaW1IK2FOgvaSOgPSKez083Di4umpmZWbrUgnYrMBFYHbg6nzcamF1EKDMzs3KlFrT/BA4i6xnksnzeGsDJBWQyMzMrW2qz/beBCzrNu6eIQGZmZpVws3szM2sKLmhmZtYUui1oeW8gZmZmK4SejtBmdExI+lMNspiZmVWsp4L2hqR/y7u62lqZls6PWgU1MzPrSU+tHE8BHgYG5M+XdFouIICVCshlZmZWlm4LWkT8VtLvgLWBZ4DNeKeImZmZNZQe70OLiCVkg3tuGREzelrXzMysnlKvgU2XdIqkf0p6S9Jz+fP+haYzMzNLVM6I1VsDh5O1flwf+DGwKu5t38zMGkBqQdsb+FhEvJI/f1bSX4G/4YJmZmYNIPWUo8qcb2ZmVlOpBe1a4A+SviBpU0k7Ab8nG1LGzMys7lJPOR4L/Ag4B1iHbBy0q4HTC8plZmZWlqQjtIhYFBEnRcSGETEoIloj4sf5sDLvS9LFkuZJerJk3gcl3SmpLf+5Wj5fkv6fpGmSHpf08crempmZ9SW16rrqUmCnTvOOB+6KiFbgrvw5wM5Aa/74JvDbGmU0M7MVWE0KWkTcB/yr0+zdgfH59Hhgj5L5l0XmQWCYpOG1yGlmZiuu1GtoRVgrIuYARMQcSWvm89cFZpasNyufN6e7DbW1tRUWMlUjZADn6Kz4HIMK3r7VQiP8vjZCBmiMHK2trRW9rp4FrTtd3QrQY/+Rlb75amlra6t7BueoU45Js4vdvtVEvX9f+9T/mQIlnXKUtJ+kTfPpjSXdJ+luSZv0Yt9zO04l5j/n5fNnASNL1hsBvNCL/ZiZWR+Qeg3tdN65BnYm2bAy9wHn9mLfNwEH5dMHATeWzP963tpxDNDecWrSzMysO6mnHD8UEXMlDQS2BfYCFgMvp7xY0lXA9sAakmYBPwHOACZKOgx4nqx7LYBbgF2AacAbwCGJGc3MrA9LLWgvSdoQ2Bx4JCLeljSIxK6vImK/bhaN7WLdAL6dmMvMzAxIL2inAY8BS4Gv5vPGknVObGZmVndJBS0iLpU0MZ9+I5/9ELBvUcHMzMzKUc6N1R8AviLp2Pz5yjRms38zM+uDUpvtfwZ4FjiAbGBPyLqmcrdUZmbWEFKP0H4FfDUidgKW5PMeIhvF2szMrO5SC9qoiLgrn+7otWMRPuVoZmYNIrWgPS3pC53m7QA8UeU8ZmZmFUk9wjoGuFnSH4EPSDof2JWsZ3wzsxXasEtq2yfn/EPWren++orUAT4fBD4GPAVcDPwT2DoiHikwm5mZWbLka2ARMRv4eYFZzMzMKtZtQZN0QUR8M5++nG6GcImIrxeUzczMLFlPR2j/LJmeVnQQMzOz3ui2oEXET0umT6lNHDMzs8qk9hRyvKRPdpq3dUk3WGZmZnWVeh/a94CnO817GjiqunHMzMwqk1rQ+pMN6FlqETCwunHMzMwqk1rQHgOO7DTvW8BfqxvHzMysMqn3oR0N3Cnpa8A/gA2BtYDPFxXMrBLv7vFhEEyqbQ8QZlY/qQN8PiVpI7LurkYA1wM3R8TCIsOZmZmlKqenkIXAVQVmMTMzq1hSQZP0YWAcsAUwuHRZRKxXQC4zM7OypB6hTSC7dnYM8EZxcczMzCqTWtA2A7aJiGVFhjEzM6tUarP9+4AtiwxiZmbWG6lHaNOB2yVdD7xYuiAiTqp2KDMzs3KlFrRVgD8A/YCRxcUxMzOrTOp9aIcUHcTMzKw3ku9Dk7QpsBewVkR8R9LGwICIeLywdGZmZolSh4/Zm6xhyLpAxwjVQ4CzCsplZmZWltRWjqcCn4+IbwFL83l/Az5WSCozM7MypRa0NckKGECU/IyuVzczM6utcoaP+VqnefsCD1c3jpmZWWVSG4V8F7hD0mHAKpJuBzYCdiwsmZmZWRlSm+0/I2kT4EvAzcBMPHyMmZk1kHKGj3kDmFhgFjMzs4qlDh9zP900AImI/6hqIjMzswqkHqFd2On52sBhwBW9DSBpOvAa2e0ASyLiE5I+CFwDjCLrR3KfiHi1t/syM7PmlXoNbXzneZKuAy4hu0ettz4bES+XPD8euCsizpB0fP78uCrsx8zMmlRqs/2uzAY+Wq0gnewOdBTR8cAeBe3HzMyahCLe/95oSYd2mjUI+DKwOCK+0KsA0j+BV8mu0Z0fERdImh8Rw0rWeTUiVit9XXt7+/LgbW1tvYlgTeSTkwbVO0LTiaM3e9dznf1UnZI0j0e2faPeERpaa2vr8umhQ4cq9XWp19A631T9OjAZODt1Rz3YJiJekLQmcKekZ8rdQOmbr4e2tra6Z3CO3KTZ9dmvWRk6///w/93qSL2G9tmiAkTEC/nPeZJuALYG5koaHhFzJA0H5hW1fzMzaw6pzfY3SFkvIp4rZ+eSVgFaIuK1fHpHskYmNwEHAWfkP28sZ7tmZtb3pJ5ynMY796GJd9+T1nF+M4CVytz/WsANkjqyTIiI2yQ9AkzMu9p6Hti7zO2amVkfk1rQDgN2AE4GZgDrAyeRNa2/tNKd50d07xmCJiJeAcZWul0zM+t7UgvaaUBrRLyZP2+TdDjwd+DSIoKZmZmVI/U+tBayXjtKrU/5pxjNzMwKkXqEdjZwt6RLyHraHwkcTHWa7ZuZmfVaarP9X0h6gqxxxpbAHODQiLityHBmZmapyhk+5jbABczMzBpS0jU0SQMkjZP0nKT2fN6Okr5TbDwzM7M0qY1Czgb+DTiAd+5Bewo4oohQZmZm5Uo95bgnsGFEvC5pGUBEzJa0bnHRzMzM0qUeoS2iU/GT9CHglaonMjMzq0BqQbsWGC/pwwB5h8G/Aa4uKpiZmVk5UgvaicB04AlgGNAGvACcUkwsMzOz8rzvNTRJLcC2wHERcVR+qvHlSBkZ1MzMrEbe9wgtIpYBN0bE2/nzl1zMzMys0aSecrxP0phCk5iZmfVCarP9GcCtkm4k68tx+RFaRJxURDAzM7NypBa0DwC/z6dHlMz3qUczM2sI3RY0Sd+JiN/kT8dFxLQaZbImMeyS2fWOYGZ9SE/X0MaVTP+16CBmZma90dMpx39I+iVZn439JB3a1UoRcXEhyczMmtR7z14MgknFndGYf0jf6KWwp4K2L3AssB/QD/haF+sE4IJmZmZ1121Bi4i/A/8JIOmuiBhbs1RmZmZlSroPzcXMzMwaXeqN1WZmZg3NBc3MzJqCC5qZmTUFFzQzM2sKLmhmZtYUXNDMzKwpuKCZmVlTcEEzM7Om4IJmZmZNwQXNzMyaQuoAn9YEajc+WbE9h5tZedL/71fv/249evj3EZqZmTUFFzQzM2sKLmhmZtYUGrqgSdpJ0rOSpkk6vt55zMyscTVsQZO0EnAOsDMwGthP0uj6pjIzs0aliKh3hi5J+hRwckR8IX9+AkBE/BSgvb29MYObmVnVDB06VKnrNuwRGrAuMLPk+ax8npmZ2Xs0ckHrqir7qMzMzLrUyDdWzwJGljwfAbzQ8aScw1AzM2t+jXyE9gjQKunDkvoD+wI31TmTmZk1qIYtaBGxBPgOcDvwMvAR4JqO5ZKukTQlf0yXNKUWuSRdLGmepCdL5m0h6cE8y6OStq5Tjo9JekDSE5L+IGnVGuQYKenPkqZKekrS9/L5H5R0p6S2/Odqdcqxd/58maRPFJnhfXL8QtIzkh6XdIOkYXXKcVqeYYqkOyStU48cJcu/LykkrVGPHJJOljS75LtklyJz9JQlX/Z/8luVnpL083rkqPV3aw85yv9ejYiGfwD/AXwceLKb5b8ETqpXFuAOYOd8ehfgnjrleAT4TD59KHBaDXIMBz6eTw8B/k52m8XPgePz+ccDP6tTjk2BjYF7gE/U8fPYEVg5n/+zOn4eq5as813gvHrkyJ+PJPuDdQawRp0+j5OB7xf9e5GY5bPAn4AB+bI16/VvU7JO4d+tPXweZX+vNuwRWqmIuA/4V1fLJAnYB7iqjlkC6DgaGkrJtb4a59gYuC+fvhP4Sg1yzImIv+bTrwFTyVqj7g6Mz1cbD+xRjxwRMTUini1y34k57ojsrAPAg2TXhOuRY0HJaqtQcEOrHn4/AM4Gji06Q0KOmuohyxHAGRHxdr5sXp1yALX7bu0hR9nfqytEQXsf2wFzI6KtjhmOAn4haSZwJnBCnXI8CeyWT+/NuxvVFE7SKGBL4CFgrYiYA9kvLLBmnXLUTQ85DgVurVcOSePy39UDgJPqkUPSbsDsiPhbrfbfVY581nfy07AXF31q/H2ybARsJ+khSfdK+mSdcnSo+Xdrpxxlf682Q0HbjxodnfXgCODoiBgJHA1cVKcchwLflvQY2aH7olrtWNJg4DrgqE5HATXV6Dkk/RBYAlxZrxwR8cP8d/VKsuvUNc1B9v5/SA2LaVc58s/jt2TX57cA5pCdYqtXlpWB1YAxwA+AiflRUq1zdKjpd2sXOcr/Xi3y3GiVz7OOotM1NLJfgLnAiHpmAdp5p9cVAQvq9ZmULNsIeLhGOfqRXQv5vyXzngWG59PDgWfrkaNk2T3U4BpaTzmAg4AHgEH1zFGyfP3ufn+KzAFsDswDpuePJcDzwNp1/jy6/f9UiyzAbcD2Jc//AXyoHp9Jrb9bu/k8yv5eXdGP0HYAnomIWXXO8QLwmXz6c0BdTn9KWjP/2QL8CDivBvsU2V9OUyPirJJFN5F9gZP/vLFOOWqquxySdgKOA3aLiDfqmKO1ZLXdgGdqnSMinoiINSNiVESMIrvn9OMR8WItc+Tzh5estifZaftC9fC7+nuy7w8kbQT0J2vhXescUMPv1h5ylP+9WovqW4XqfRXZ6YDFZL/8h+XzLwW+Ve8swLbAY8DfyM79blWnHN8jayH0d+AM8r9uCs6xLdnF28eBKfljF2B14K78l/Au4IN1yrFn/vm8TfYX5+11yjGNrCu3jnlFty7sLsd1ZF/ajwN/IGsoUvMcndaZTvGtHLv7PC4Hnsjn30R+VqFOWfoDV+T/Pn8FPlevf5tafrf28HmU/b3asJ0Tm5mZlWNFP+VoZmYGuKCZmVmTcEEzM7Om4IJmZmZNwQXNzMyagguaWZ1IulTS6fXOYdYsXNDMzKwpuKCZmVlTcEGzPkvScfngjq/lgyqOlbS1skFS50uaI+k3ykZM73hNSDpS2cClrykbMPMj+WsWSJrYsb6k7SXNknSipJfzwRIP6CHPl/LBDOdLmizpownvYbqkH+S9xb8u6SJJa0m6Nc/3p9Ie5CWNybc9X9LfJG1fsuyQfJDF1yQ9J+nwkmUd7+UYZQPLzpF0SMnyXSQ9nb92tqTvl/WPYVYNtejaxA8/Gu1BNnbcTGCd/Pkosl7XtyLr7XzlfN5Ust6/O14XZF0krQpsRtal1l3ABmRjNj0NHJSvuz1Zx7tnAQPI+qV7Hdg4X34pcHo+/XGyDnv/HViJrP/L6eSDPfbwPqaTja+2FtkYUvPIuk3aMt/n3cBP8nXXBV4h61aoBfh8/vxD+fIv5p+B8qxv8M7Aix3v5VSyjmR3yZevli+fA2yXT6/W8To//Kjlw0do1lctJfvCHy2pX0RMj4h/RMRjEfFgRCyJiOnA+bzTQWqHn0XEgoh4iqzfvTsi4rmIaCcb52zLTuv/OCLejoh7gT+SDZrY2TeA8yPioYhYGhHjyYrlmIT38v8jYm5EzAbuBx6KiP+JbKDIG0ryHAjcEhG3RMSyiLgTeJSsOBERf8w/g8iz3kE2JlaHxcCpEbE4Im4BFpL9YdCxbLSkVSPi1cgHbDSrJRc065MiYhrZ2FwnA/MkXS1pHUkbSbpZ0ouSFgD/BazR6eVzS6bf7OL54JLnr0bE6yXPZwDrdBFpfeCY/FTgfEnzyQZo7WrdzlLzrA/s3Wkf25IN74OknSU9KOlf+bJdePd7fyXeGXUbsiO0jm1/JV9/Rj445acScptVlQua9VkRMSEitiX7og/gZ2QDPj4DtEbEqsCJZKfgKrWapFVKnq9H10PJzwTGRcSwksegiKjmAIszgcs77WOViDhD0gCynoTsIbMAAAFOSURBVPjPJBttfBhwC4nvPSIeiYjdyUYm/z0wsYq5zZK4oFmfJGljSZ/Lv8jfIjuSWUo20vcCYKGkTchGze2tUyT1l7Qd8CXg2i7W+R3wLUn/rswqkr4oaUgV9t/hCmBXSV+QtJKkgXljjxFkQ5cMAF4ClkjaGdgxZaP5eztA0tCIWEz2+S2tYm6zJC5o1lcNIBsz7mXgRbIjixOB7wP7A6+RFZlrermfF4FXyY7KriQbY+o9g2pGxKNk19F+k68/DTi4l/vuvI+ZwO5k7/MlsiO2HwAtEfEa8F2yI6tXyT6Dm8rY/NeA6flp2m+RXa8zqymPh2ZWkLxJ/BURMaLeWcz6Ah+hmZlZU1i53gHMrHuS1iO7t60royPi+VrmMWtkPuVoZmZNwacczcysKbigmZlZU3BBMzOzpuCCZmZmTcEFzczMmoILmpmZNYX/BehWR13f106QAAAAAElFTkSuQmCC\n",
      "text/plain": [
       "<Figure size 432x288 with 1 Axes>"
      ]
     },
     "metadata": {
      "needs_background": "light"
     },
     "output_type": "display_data"
    }
   ],
   "source": [
    "thousand_rand_samp = [auto.sample(n = 30).mpg.mean() for i in range(1000)]\n",
    "\n",
    "bars = plt.hist(thousand_rand_samp)\n",
    "\n",
    "plt.vlines(x = mu, ymin= 0,\n",
    "           ymax = bars[0].max() +1,\n",
    "           color = 'r', label = 'pop mean')\n",
    "plt.xticks(range(17,29))\n",
    "plt.xlabel('sample_means')\n",
    "plt.ylabel('frequencies of sample means')\n",
    "\n",
    "plt.legend()\n",
    "plt.show()"
   ]
  },
  {
   "cell_type": "code",
   "execution_count": 41,
   "metadata": {},
   "outputs": [
    {
     "data": {
      "text/plain": [
       "1.424992887297358"
      ]
     },
     "execution_count": 41,
     "metadata": {},
     "output_type": "execute_result"
    }
   ],
   "source": [
    "sigma = auto.mpg.std()\n",
    "\n",
    "\n",
    "standard_error = sigma/ (np.sqrt(30))\n",
    "\n",
    "standard_error"
>>>>>>> 8133b1a2d4a9c9a62ac34906e6190eba4b5dfaef
   ]
  },
  {
   "cell_type": "code",
<<<<<<< HEAD
   "execution_count": 42,
   "metadata": {},
   "outputs": [],
   "source": [
    "standard_error = sigma/(np.sqrt(30))"
=======
   "execution_count": 43,
   "metadata": {},
   "outputs": [],
   "source": [
    "confidence_interval_lower = sample.mpg.mean() - 2*standard_error\n",
    "\n",
    "confidence_interval_upper = sample.mpg.mean() + 2*standard_error"
>>>>>>> 8133b1a2d4a9c9a62ac34906e6190eba4b5dfaef
   ]
  },
  {
   "cell_type": "code",
<<<<<<< HEAD
   "execution_count": 43,
=======
   "execution_count": 44,
>>>>>>> 8133b1a2d4a9c9a62ac34906e6190eba4b5dfaef
   "metadata": {},
   "outputs": [
    {
     "data": {
      "text/plain": [
<<<<<<< HEAD
       "1.424992887297358"
      ]
     },
     "execution_count": 43,
=======
       "21.296680892071947"
      ]
     },
     "execution_count": 44,
>>>>>>> 8133b1a2d4a9c9a62ac34906e6190eba4b5dfaef
     "metadata": {},
     "output_type": "execute_result"
    }
   ],
   "source": [
<<<<<<< HEAD
    "standard_error"
=======
    "confidence_interval_lower"
>>>>>>> 8133b1a2d4a9c9a62ac34906e6190eba4b5dfaef
   ]
  },
  {
   "cell_type": "code",
<<<<<<< HEAD
   "execution_count": 44,
   "metadata": {},
   "outputs": [],
   "source": [
    "confidence_interval_lower = sample.mpg.mean()-2*standard_error"
=======
   "execution_count": 45,
   "metadata": {},
   "outputs": [
    {
     "data": {
      "text/plain": [
       "26.996652441261382"
      ]
     },
     "execution_count": 45,
     "metadata": {},
     "output_type": "execute_result"
    }
   ],
   "source": [
    "confidence_interval_upper"
   ]
  },
  {
   "cell_type": "code",
   "execution_count": 47,
   "metadata": {},
   "outputs": [],
   "source": [
    "confidence_interval_lower_2 = sample2.mpg.mean() - 2*standard_error\n",
    "\n",
    "confidence_interval_upper_2 = sample2.mpg.mean() + 2*standard_error"
>>>>>>> 8133b1a2d4a9c9a62ac34906e6190eba4b5dfaef
   ]
  },
  {
   "cell_type": "code",
<<<<<<< HEAD
   "execution_count": 46,
   "metadata": {},
   "outputs": [],
   "source": [
    "confidence_interval_upper = sample.mpg.mean()+2*standard_error"
=======
   "execution_count": 51,
   "metadata": {},
   "outputs": [],
   "source": [
    "sample3 = auto.sample(n=30)\n",
    "\n",
    "confidence_interval_lower_3 = sample3.mpg.mean() - 2*standard_error\n",
    "\n",
    "confidence_interval_upper_3 = sample3.mpg.mean() + 2*standard_error"
>>>>>>> 8133b1a2d4a9c9a62ac34906e6190eba4b5dfaef
   ]
  },
  {
   "cell_type": "code",
<<<<<<< HEAD
   "execution_count": 47,
=======
   "execution_count": 52,
   "metadata": {},
   "outputs": [
    {
     "data": {
      "text/plain": [
       "19.32001422540528"
      ]
     },
     "execution_count": 52,
     "metadata": {},
     "output_type": "execute_result"
    }
   ],
   "source": [
    "confidence_interval_lower_3"
   ]
  },
  {
   "cell_type": "code",
   "execution_count": 53,
   "metadata": {},
   "outputs": [
    {
     "data": {
      "text/plain": [
       "25.019985774594716"
      ]
     },
     "execution_count": 53,
     "metadata": {},
     "output_type": "execute_result"
    }
   ],
   "source": [
    "confidence_interval_upper_3"
   ]
  },
  {
   "cell_type": "code",
   "execution_count": 46,
>>>>>>> 8133b1a2d4a9c9a62ac34906e6190eba4b5dfaef
   "metadata": {},
   "outputs": [
    {
     "data": {
      "text/plain": [
<<<<<<< HEAD
       "[21.296680892071947, 26.996652441261382]"
      ]
     },
     "execution_count": 47,
=======
       "23.44591836734694"
      ]
     },
     "execution_count": 46,
>>>>>>> 8133b1a2d4a9c9a62ac34906e6190eba4b5dfaef
     "metadata": {},
     "output_type": "execute_result"
    }
   ],
   "source": [
<<<<<<< HEAD
    "[confidence_interval_lower, confidence_interval_upper]  #There is a 95% chance that the population mean will be in this confidence interval"
=======
    "auto.mpg.mean()"
>>>>>>> 8133b1a2d4a9c9a62ac34906e6190eba4b5dfaef
   ]
  },
  {
   "cell_type": "markdown",
   "metadata": {},
   "source": [
    "# Central Limit Theorem\n",
    "\n",
    "The Central Limit Theorem states: \n",
    ">When you add **a large number** of independent random variables, irrespective of the original distribution of these variables, **their sampling mean distribution tends towards a normal distribution** with mean equals to the mean of the original population and the standard deviation equals to $\\frac{\\sigma}{\\sqrt{n}}$.\n",
    "\n",
    "\n",
    "\n",
    "\n",
    "\n",
    "The standard error of the mean is the standard deviation of the sampling distribution.\n",
    "The issue is that a sample is not an exact replica of the population. We need to account for the fact that in order to make our estimate of the $\\mu$ value possible. Let's break it down:\n",
    "\n",
    "## Standard Error\n",
    "\n",
    "$$\\sigma _{\\bar{X}} = \\frac{\\sigma }{\\sqrt{n}}$$\n",
    "\n",
    "* $ \\sigma _{x}$ = standard error of $\\bar{x} $\n",
    "* $ \\sigma $ = standard deviation of population\n",
    "\n",
    "\n",
    "**What if we do not know the population sigma?**<br>\n",
    "If we do not know the population standard deviation, we can approximate for it by used the sample standard deviation.\n",
    "\n",
    "$\\sigma _{x} ≈ \\frac{s}{\\sqrt{n}}$\n",
    "\n",
    "* s = sample standard deviation\n",
    "\n",
    "But in this case, distribution shape is not 'normal' anymore. In this case the shape will be call 'T-distribution'. We will study this later in more details.\n",
    "\n",
    "\n",
    "**Sample size impact on standard error of mean**<br>\n",
    "\n",
    "Q: How should sample size influence standard error of the mean?\n",
    "\n",
    "\n",
    "![error](./img/diminishing_error.png)\n",
    "Important implication: The Standard Error of the mean remains the same as long as the population standard deviation is known and sample size remains the same.\n",
    "\n",
    "\n",
    "__Note-1__ In the case of finite sampling, we need to adjust the formula for standard error:\n",
    "\n",
    "<img src=\"img/standard_deviation_of_x_bar.png\" width=\"650\">\n",
    "\n",
    "\n",
    "__Note-2__ Note that in CLT the shape of initial distribution is not important! With enough sample size we can always achieve a distribution very close to normal one.\n",
    "\n",
    "<img src=\"img/clt_with_different.png\" width=\"650\">\n",
    "\n",
    "\n",
    "## Interval Estimation - Confidence Intervals\n",
    "\n",
    "Q: Let's assume that we have a sample of size=49 and we know the standard deviation of the population is $\\sigma = 5$. If we know that sampling mean is $\\bar{x} = 20$. What might be a good estimate for the population mean if we also know that the population mean is bigger than 20?\n",
    "\n",
    "Hint: What do we mean by 'a good estimate'?"
   ]
  },
  {
   "cell_type": "markdown",
   "metadata": {},
   "source": [
    "[Z-scores](https://www.mathsisfun.com/data/standard-normal-distribution-table.html)\n",
    "\n",
    "<img src=\"img/interval_estimation.png\" width=\"650\">"
   ]
  },
  {
   "cell_type": "code",
<<<<<<< HEAD
   "execution_count": 51,
   "metadata": {},
   "outputs": [],
   "source": [
    "standard_error = 5/(np.sqrt(49))"
   ]
  },
  {
   "cell_type": "code",
   "execution_count": 52,
   "metadata": {},
   "outputs": [
    {
     "data": {
      "text/plain": [
       "0.7142857142857143"
      ]
     },
     "execution_count": 52,
     "metadata": {},
     "output_type": "execute_result"
    }
   ],
   "source": [
    "standard_error"
   ]
  },
  {
   "cell_type": "code",
   "execution_count": 54,
   "metadata": {},
   "outputs": [
    {
     "data": {
      "text/plain": [
       "21.428571428571427"
      ]
     },
     "execution_count": 54,
     "metadata": {},
     "output_type": "execute_result"
    }
   ],
   "source": [
    "20 + 2*standard_error"
   ]
  },
  {
   "cell_type": "code",
   "execution_count": 55,
   "metadata": {},
   "outputs": [],
   "source": [
    "import scipy.stats as stats"
   ]
  },
  {
   "cell_type": "code",
   "execution_count": 60,
   "metadata": {},
   "outputs": [
    {
     "data": {
      "text/plain": [
       "1.2815515655446004"
      ]
     },
     "execution_count": 60,
     "metadata": {},
     "output_type": "execute_result"
    }
   ],
   "source": [
    "stats.norm.ppf(.9)   #z score"
=======
   "execution_count": 54,
   "metadata": {},
   "outputs": [],
   "source": [
    "import scipy.stats as stats\n"
>>>>>>> 8133b1a2d4a9c9a62ac34906e6190eba4b5dfaef
   ]
  },
  {
   "cell_type": "code",
   "execution_count": 61,
   "metadata": {},
   "outputs": [
    {
     "data": {
      "text/plain": [
<<<<<<< HEAD
       "20.915393975389"
=======
       "1.0364333894937898"
>>>>>>> 8133b1a2d4a9c9a62ac34906e6190eba4b5dfaef
      ]
     },
     "execution_count": 61,
     "metadata": {},
     "output_type": "execute_result"
    }
   ],
   "source": [
<<<<<<< HEAD
    "20 + _*standard_error"
   ]
  },
  {
   "cell_type": "code",
   "execution_count": 62,
   "metadata": {},
   "outputs": [
    {
     "data": {
      "text/plain": [
       "0.9153939753890015"
      ]
     },
     "execution_count": 62,
     "metadata": {},
     "output_type": "execute_result"
    }
   ],
   "source": [
    "_-20"
   ]
  },
  {
   "cell_type": "code",
   "execution_count": 63,
   "metadata": {},
   "outputs": [
    {
     "data": {
      "text/plain": [
       "19.084606024611"
      ]
     },
     "execution_count": 63,
     "metadata": {},
     "output_type": "execute_result"
    }
   ],
   "source": [
    "20 - _      #90 percent chance that the population mean is in the confidence interval between 19.08 and 20.92"
=======
    "stats.norm.ppf(0.85)"
>>>>>>> 8133b1a2d4a9c9a62ac34906e6190eba4b5dfaef
   ]
  },
  {
   "cell_type": "code",
   "execution_count": null,
   "metadata": {},
   "outputs": [],
   "source": [
    "import matplotlib.pyplot as plt\n",
    "import numpy as np\n",
    "import scipy.stats as stats\n",
    "import math\n",
    "%matplotlib inline\n",
    "\n",
    "\n",
    "#suppose population mu is 21\n",
    "mu = 21\n",
    "# sample mean gives us a point estimator\n",
    "point_estimator = 20\n",
    "\n",
    "# we know population variance is 49\n",
    "std_error = 5/(np.sqrt(49))\n",
    "\n",
    "\n",
    "# how much confidence do we require\n",
    "confidence = 0.95\n",
    "\n",
    "# alpha \n",
    "alpha = 1- confidence\n",
    "\n",
    "# due to symmetry we divided alpha by 2\n",
    "# note that to find z_alpha_over_2 we used \n",
    "# standard normal distribution\n",
    "\n",
    "z_alpha_over_2 = np.abs(stats.norm.ppf(alpha/2))\n",
    "\n",
    "print(z_alpha_over_2)\n",
    "\n",
    "\n",
    "# upper bound gives us a value so that\n",
    "# 2*(the area between point_estimator - upper_bound) = confidence\n",
    "\n",
    "upper_bound = point_estimator + z_alpha_over_2* std_error\n",
    "\n",
    "# now let's plot these\n",
    "\n",
    "# a normal distribution with mean=mu and std=sigma\n",
    "x = np.linspace(mu - 4*std_error, mu + 4*std_error, 100)\n",
    "plt.plot(x, stats.norm.pdf(x, mu, std_error))\n",
    "\n",
    "# a vertical line to mark point estimator\n",
    "plt.vlines(point_estimator, ymin=0,\n",
    "           ymax = stats.norm.pdf(point_estimator, mu, std_error))\n",
    "\n",
    "# a vertical line for population mu\n",
    "plt.vlines(mu, ymin=0,\n",
    "           ymax = stats.norm.pdf(mu, mu, std_error),\n",
    "          color = 'g')\n",
    "\n",
    "# a vertical line for upper bound\n",
    "plt.vlines(upper_bound, ymin=0,\n",
    "           ymax = stats.norm.pdf(upper_bound, \n",
    "                                 mu, std_error))\n",
    "\n",
    "\n",
    "# fill the area between upper_bound and point_estimator\n",
    "plt.fill_between(x= np.linspace(point_estimator, upper_bound, 100), \n",
    "                 y1= stats.norm.pdf(np.linspace(point_estimator,\n",
    "                                                upper_bound, 100), mu, std_error) ,\n",
    "                 facecolor='blue',\n",
    "                 alpha=0.35, \n",
    "                 label= 'btwn point estimator and\\n upper bound')\n",
    "\n",
    "# fill the area between point estimator and the left of it\n",
    "plt.fill_between(x= np.linspace(mu - 4*std_error, point_estimator, 100), \n",
    "                 y1= stats.norm.pdf(np.linspace(mu - 4*std_error, point_estimator,100), mu, std_error) ,\n",
    "                 facecolor='red',\n",
    "                 alpha=0.35, \n",
    "                 label= 'red area %.3f'%(stats.norm.cdf(point_estimator, mu, std_error)))\n",
    "\n",
    "plt.legend(loc = 'upper right')\n",
    "plt.show()"
   ]
  },
  {
   "cell_type": "markdown",
   "metadata": {},
   "source": [
    "\n"
   ]
  },
  {
   "cell_type": "markdown",
   "metadata": {},
   "source": [
    "# Hypothesis Testing \n",
    "\n",
    "## The Analytical Question \n",
    "\n",
    "A data scientist wants to examine if there is an effect on IQ scores when using tutors. To analyze this, she conducts IQ tests on a sample of 40 students, and wants to compare her students' IQ to the general population IQ. The way an IQ score is structured, we know that a standardized IQ test has a mean of 100, and a standard deviation of 16. When she tests her group of students, however, she gets an average IQ of 103. Based on this finding, does tutoring make a difference?\n",
    "\n",
    "## Step 1: State Your Hypotheses\n",
    "\n",
    "### The Alternative Hypothesis ($H_a$)\n",
    "\n",
    "The alternative hypothesis always reflects the idea or theory that needs to be tested. For this problem, you want to test if the tutoring has resulted in a significant increase in student IQ. So, you would write it down as:\n",
    "\n",
    "> The sample mean is **significantly** bigger than the population mean\n",
    "\n",
    "Again, significance is key here. If we denote sample mean as $\\bar{x}$, and population mean as mu ($\\mu$), you can write the alternative hypothesis as:\n",
    "\n",
    "$$\\large H_a\\text{:   }\\mu < \\bar{x}$$\n",
    "\n",
    "The alternative hypothesis here is that $\\mu$ is less than $M$. In other situations, you could check for both possibilities of $\\mu$ being smaller OR bigger than by checking  $\\mu \\neq M$. \n",
    "\n",
    "Maybe the tutoring results as a lower IQ... Who knows!\n",
    "\n",
    "For now, you'll just check for the **significant increase**, for now, to keep the process simple.\n",
    "\n",
    "### The Null Hypothesis ($H_0$)\n",
    "\n",
    "For a one-sample z-test, you define your null hypothesis as there being **no significant difference** between specified sample and population. This means that under the null hypothesis, you assume that any observed (generally small) difference may be present due to sampling or experimental error. Considering this, for this problem, you can define a null hypothesis ($H_0$) as:\n",
    "\n",
    "> There is **no significant difference** between the sample mean and population mean \n",
    "\n",
    "Remember the emphasis is on a _significant_ difference, rather than just any difference as a natural result of taking samples.\n",
    "\n",
    "Denoting the sample mean as $M$, and the population mean as mu ($\\mu$), you can write the null hypothesis as:\n",
    "\n",
    "$$\\large H_0\\text{:   }\\mu \\geq \\bar{x}$$\n",
    "\n",
    "\n",
    "## Step 2: Specify a Significance Level (alpha)\n",
    "\n",
    "Now that your hypotheses are in place, you have to decide on your significance level alpha ($\\alpha$) as a cut-off value to define whether you can reject your null hypothesis or not.\n",
    "\n",
    "As discussed previously, often, $\\alpha$ is set to 0.05, which also has as a side-effect that there is a 5 percent chance that you will reject the null hypothesis when it is true.\n",
    "Later, you'll see that using alpha, you'll formulate your test result as: \"with a confidence level of 95%, we can state that...\". For a z-distribution, this can be shown as below:\n",
    "\n",
    "<img src=\"img/hypothesis_test.png\" width=670>\n",
    "\n",
    "\n",
    "If you test both sides of the distribution ($\\mu \\neq \\bar{x}$, when $\\mu$ can either be smaller OR bigger), you need to perform a 2-tail test to see if tutoring lowers OR highers the IQ of students.\n",
    "\n",
    "Each red region would be calculated as $\\dfrac{\\alpha}{2}$. When testing of a single side (as in the example) i.e. just higher OR just lower, you can use a one-tail test as shown in the first and second images. The $\\alpha$ value we use is 0.05 or $5\\%$.\n",
    "\n",
    "## Step 3: Calculate the test statistic\n",
    "\n",
    "For z-tests, a z-statistic is used as our test statistic. You'll see other statistics suitable for other tests later. A one-sample z-statistic is calculated as:\n",
    "\n",
    "$$ \\large \\text{z-statistic} = \\dfrac{\\bar x - \\mu_0}{{\\sigma}/{\\sqrt{n}}} $$\n",
    "\n",
    "This formula slightly differs from the standard score formula. It includes the square square root of n to reflect that we are dealing with the sample variance here. \n",
    "\n",
    "Now, all you need to do is use this formula given your sample mean $\\bar x$, the population standard deviation $\\sigma$, and the number of items in the sample ($n$). $\\mu_0$ is the mean you're testing the hypothesis for, or the \"hypothesized mean\". \n",
    "\n",
    "Let's use Python to calculate this. "
   ]
  },
  {
   "cell_type": "code",
   "execution_count": null,
   "metadata": {},
   "outputs": [],
   "source": []
  }
 ],
 "metadata": {
  "kernelspec": {
   "display_name": "Python 3",
   "language": "python",
   "name": "python3"
  },
  "language_info": {
   "codemirror_mode": {
    "name": "ipython",
    "version": 3
   },
   "file_extension": ".py",
   "mimetype": "text/x-python",
   "name": "python",
   "nbconvert_exporter": "python",
   "pygments_lexer": "ipython3",
   "version": "3.7.4"
  },
  "toc": {
   "base_numbering": 1,
   "nav_menu": {},
   "number_sections": true,
   "sideBar": true,
   "skip_h1_title": false,
   "title_cell": "Table of Contents",
   "title_sidebar": "Contents",
   "toc_cell": false,
   "toc_position": {},
   "toc_section_display": true,
   "toc_window_display": false
  }
 },
 "nbformat": 4,
 "nbformat_minor": 4
}
