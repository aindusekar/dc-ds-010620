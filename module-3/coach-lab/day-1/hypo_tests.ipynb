{
 "cells": [
  {
   "cell_type": "markdown",
   "metadata": {},
   "source": [
    "# Northwind database\n",
    "##### Jonathan Tyler\n",
    "\n",
    "Northwind is a company that sells specialty foods. \n",
    "\n",
    "I was given a mandate to  \"__do something with this database__\" as my first project as a new hire. \n",
    "\n",
    "I was able to find a entity-relation diagram for the database but not much else. So to break down this task:\n",
    "1. First I am going to have to explore the database myself to see the basic metrics of the company.\n",
    "2. Then I will use this basic data to formulate some hypotheses concerning some underlying trends.\n",
    "3. Finally I will attempt to test out these ideas to prove myself right or wrong."
   ]
  },
  {
   "cell_type": "markdown",
   "metadata": {},
   "source": [
    "## EDA"
   ]
  },
  {
   "cell_type": "code",
   "execution_count": 1,
   "metadata": {},
   "outputs": [],
   "source": [
    "import matplotlib.pyplot as plt\n",
    "import numpy as np\n",
    "import pandas as pd\n",
    "import seaborn as sns\n",
    "\n",
    "import sqlalchemy\n",
    "from sqlalchemy import create_engine, inspect\n",
    "from sqlalchemy.orm import Session, sessionmaker\n",
    "\n",
    "#import statsmodels.api as sm\n",
    "#from statsmodels.formula.api import ols\n",
    "#from statsmodels.stats.multicomp import pairwise_tukeyhsd\n",
    "#from statsmodels.stats.multicomp import MultiComparison\n",
    "\n",
    "from scipy.stats import ttest_1samp, ttest_ind\n",
    "from scipy.stats import levene, shapiro, mannwhitneyu, kruskal\n",
    "\n",
    "plt.style.use('ggplot')"
   ]
  },
  {
   "cell_type": "markdown",
   "metadata": {},
   "source": [
    "Connecting the database enable to start looking at the data. I plan to compare the ERD to the database and get basic metric from the tables."
   ]
  },
  {
   "cell_type": "code",
<<<<<<< HEAD
   "execution_count": 2,
=======
   "execution_count": 4,
>>>>>>> 04766fb820eca212a3d7937313ba7748d4fc895c
   "metadata": {},
   "outputs": [
    {
     "name": "stdout",
     "output_type": "stream",
     "text": [
<<<<<<< HEAD
      "2020-02-10 11:06:36,002 INFO sqlalchemy.engine.base.Engine SELECT CAST('test plain returns' AS VARCHAR(60)) AS anon_1\n",
      "2020-02-10 11:06:36,010 INFO sqlalchemy.engine.base.Engine ()\n",
      "2020-02-10 11:06:36,010 INFO sqlalchemy.engine.base.Engine SELECT CAST('test unicode returns' AS VARCHAR(60)) AS anon_1\n",
      "2020-02-10 11:06:36,010 INFO sqlalchemy.engine.base.Engine ()\n",
      "2020-02-10 11:06:36,014 INFO sqlalchemy.engine.base.Engine SELECT name FROM sqlite_master WHERE type='table' ORDER BY name\n",
      "2020-02-10 11:06:36,022 INFO sqlalchemy.engine.base.Engine ()\n"
=======
      "2020-02-10 11:11:05,475 INFO sqlalchemy.engine.base.Engine SELECT CAST('test plain returns' AS VARCHAR(60)) AS anon_1\n",
      "2020-02-10 11:11:05,476 INFO sqlalchemy.engine.base.Engine ()\n",
      "2020-02-10 11:11:05,477 INFO sqlalchemy.engine.base.Engine SELECT CAST('test unicode returns' AS VARCHAR(60)) AS anon_1\n",
      "2020-02-10 11:11:05,478 INFO sqlalchemy.engine.base.Engine ()\n",
      "2020-02-10 11:11:05,479 INFO sqlalchemy.engine.base.Engine SELECT name FROM sqlite_master WHERE type='table' ORDER BY name\n",
      "2020-02-10 11:11:05,480 INFO sqlalchemy.engine.base.Engine ()\n"
>>>>>>> 04766fb820eca212a3d7937313ba7748d4fc895c
     ]
    },
    {
     "data": {
      "text/plain": [
       "['Category',\n",
       " 'Customer',\n",
       " 'CustomerCustomerDemo',\n",
       " 'CustomerDemographic',\n",
       " 'Employee',\n",
       " 'EmployeeTerritory',\n",
       " 'Order',\n",
       " 'OrderDetail',\n",
       " 'Product',\n",
       " 'Region',\n",
       " 'Shipper',\n",
       " 'Supplier',\n",
       " 'Territory']"
      ]
     },
<<<<<<< HEAD
     "execution_count": 2,
=======
     "execution_count": 4,
>>>>>>> 04766fb820eca212a3d7937313ba7748d4fc895c
     "metadata": {},
     "output_type": "execute_result"
    }
   ],
   "source": [
    "#engine = create_engine('sqlite:///Northwind_large.sqlite', echo=True)\n",
    "engine = create_engine('sqlite:///Northwind_small.sqlite', echo=True)\n",
    "Session = sessionmaker(bind=engine)\n",
    "session = Session()\n",
    "\n",
    "inspector = inspect(engine) #checking the ERD against the actual database\n",
    "inspector.get_table_names()"
   ]
  },
  {
   "cell_type": "markdown",
   "metadata": {},
   "source": [
    "  \n",
    "So a quick check of the different tables align with the ERD. That is good. But I should be checking out the individual tables before calling them nevertheless, it is good pratice.\n",
    "  \n",
    "Now lets start checking out a few things:\n",
    "- How much of what are we selling?\n",
    "- Who are our main suppliers?\n",
    "\n",
    "Once we know these things, we will have a broad overview of the business. From there we will investigate any abnormalities or go splunking for underlying trends.\n",
    "___\n",
    "---\n",
    "Now lets make a connection to the engine and make sure it works."
   ]
  },
  {
   "cell_type": "code",
<<<<<<< HEAD
   "execution_count": 3,
=======
   "execution_count": 5,
>>>>>>> 04766fb820eca212a3d7937313ba7748d4fc895c
   "metadata": {},
   "outputs": [],
   "source": [
    "con = engine.connect() #connecting the engine to be able to make queries"
   ]
  },
  {
   "cell_type": "code",
<<<<<<< HEAD
   "execution_count": 6,
=======
   "execution_count": 7,
>>>>>>> 04766fb820eca212a3d7937313ba7748d4fc895c
   "metadata": {},
   "outputs": [
    {
     "name": "stdout",
     "output_type": "stream",
     "text": [
<<<<<<< HEAD
      "2020-02-10 11:13:46,301 INFO sqlalchemy.engine.base.Engine Select *\n",
      "FROM [Order]\n",
      "2020-02-10 11:13:46,301 INFO sqlalchemy.engine.base.Engine ()\n"
=======
      "2020-02-10 11:15:53,710 INFO sqlalchemy.engine.base.Engine SELECT * from [Order]\n",
      "2020-02-10 11:15:53,713 INFO sqlalchemy.engine.base.Engine ()\n"
>>>>>>> 04766fb820eca212a3d7937313ba7748d4fc895c
     ]
    },
    {
     "data": {
      "text/html": [
       "<div>\n",
       "<style scoped>\n",
       "    .dataframe tbody tr th:only-of-type {\n",
       "        vertical-align: middle;\n",
       "    }\n",
       "\n",
       "    .dataframe tbody tr th {\n",
       "        vertical-align: top;\n",
       "    }\n",
       "\n",
       "    .dataframe thead th {\n",
       "        text-align: right;\n",
       "    }\n",
       "</style>\n",
       "<table border=\"1\" class=\"dataframe\">\n",
       "  <thead>\n",
       "    <tr style=\"text-align: right;\">\n",
       "      <th></th>\n",
       "      <th>Id</th>\n",
       "      <th>CustomerId</th>\n",
       "      <th>EmployeeId</th>\n",
       "      <th>OrderDate</th>\n",
       "      <th>RequiredDate</th>\n",
       "      <th>ShippedDate</th>\n",
       "      <th>ShipVia</th>\n",
       "      <th>Freight</th>\n",
       "      <th>ShipName</th>\n",
       "      <th>ShipAddress</th>\n",
       "      <th>ShipCity</th>\n",
       "      <th>ShipRegion</th>\n",
       "      <th>ShipPostalCode</th>\n",
       "      <th>ShipCountry</th>\n",
       "    </tr>\n",
       "  </thead>\n",
       "  <tbody>\n",
       "    <tr>\n",
<<<<<<< HEAD
       "      <td>0</td>\n",
=======
       "      <th>0</th>\n",
>>>>>>> 04766fb820eca212a3d7937313ba7748d4fc895c
       "      <td>10248</td>\n",
       "      <td>VINET</td>\n",
       "      <td>5</td>\n",
       "      <td>2012-07-04</td>\n",
       "      <td>2012-08-01</td>\n",
       "      <td>2012-07-16</td>\n",
       "      <td>3</td>\n",
       "      <td>32.38</td>\n",
       "      <td>Vins et alcools Chevalier</td>\n",
       "      <td>59 rue de l'Abbaye</td>\n",
       "      <td>Reims</td>\n",
       "      <td>Western Europe</td>\n",
       "      <td>51100</td>\n",
       "      <td>France</td>\n",
       "    </tr>\n",
       "    <tr>\n",
<<<<<<< HEAD
       "      <td>1</td>\n",
=======
       "      <th>1</th>\n",
>>>>>>> 04766fb820eca212a3d7937313ba7748d4fc895c
       "      <td>10249</td>\n",
       "      <td>TOMSP</td>\n",
       "      <td>6</td>\n",
       "      <td>2012-07-05</td>\n",
       "      <td>2012-08-16</td>\n",
       "      <td>2012-07-10</td>\n",
       "      <td>1</td>\n",
       "      <td>11.61</td>\n",
       "      <td>Toms Spezialitäten</td>\n",
       "      <td>Luisenstr. 48</td>\n",
       "      <td>Münster</td>\n",
       "      <td>Western Europe</td>\n",
       "      <td>44087</td>\n",
       "      <td>Germany</td>\n",
       "    </tr>\n",
       "    <tr>\n",
<<<<<<< HEAD
       "      <td>2</td>\n",
=======
       "      <th>2</th>\n",
>>>>>>> 04766fb820eca212a3d7937313ba7748d4fc895c
       "      <td>10250</td>\n",
       "      <td>HANAR</td>\n",
       "      <td>4</td>\n",
       "      <td>2012-07-08</td>\n",
       "      <td>2012-08-05</td>\n",
       "      <td>2012-07-12</td>\n",
       "      <td>2</td>\n",
       "      <td>65.83</td>\n",
       "      <td>Hanari Carnes</td>\n",
       "      <td>Rua do Paço, 67</td>\n",
       "      <td>Rio de Janeiro</td>\n",
       "      <td>South America</td>\n",
       "      <td>05454-876</td>\n",
       "      <td>Brazil</td>\n",
       "    </tr>\n",
       "    <tr>\n",
<<<<<<< HEAD
       "      <td>3</td>\n",
=======
       "      <th>3</th>\n",
>>>>>>> 04766fb820eca212a3d7937313ba7748d4fc895c
       "      <td>10251</td>\n",
       "      <td>VICTE</td>\n",
       "      <td>3</td>\n",
       "      <td>2012-07-08</td>\n",
       "      <td>2012-08-05</td>\n",
       "      <td>2012-07-15</td>\n",
       "      <td>1</td>\n",
       "      <td>41.34</td>\n",
       "      <td>Victuailles en stock</td>\n",
       "      <td>2, rue du Commerce</td>\n",
       "      <td>Lyon</td>\n",
       "      <td>Western Europe</td>\n",
       "      <td>69004</td>\n",
       "      <td>France</td>\n",
       "    </tr>\n",
       "    <tr>\n",
<<<<<<< HEAD
       "      <td>4</td>\n",
=======
       "      <th>4</th>\n",
>>>>>>> 04766fb820eca212a3d7937313ba7748d4fc895c
       "      <td>10252</td>\n",
       "      <td>SUPRD</td>\n",
       "      <td>4</td>\n",
       "      <td>2012-07-09</td>\n",
       "      <td>2012-08-06</td>\n",
       "      <td>2012-07-11</td>\n",
       "      <td>2</td>\n",
       "      <td>51.30</td>\n",
       "      <td>Suprêmes délices</td>\n",
       "      <td>Boulevard Tirou, 255</td>\n",
       "      <td>Charleroi</td>\n",
       "      <td>Western Europe</td>\n",
       "      <td>B-6000</td>\n",
       "      <td>Belgium</td>\n",
       "    </tr>\n",
       "  </tbody>\n",
       "</table>\n",
       "</div>"
      ],
      "text/plain": [
       "      Id CustomerId  EmployeeId   OrderDate RequiredDate ShippedDate  ShipVia  \\\n",
       "0  10248      VINET           5  2012-07-04   2012-08-01  2012-07-16        3   \n",
       "1  10249      TOMSP           6  2012-07-05   2012-08-16  2012-07-10        1   \n",
       "2  10250      HANAR           4  2012-07-08   2012-08-05  2012-07-12        2   \n",
       "3  10251      VICTE           3  2012-07-08   2012-08-05  2012-07-15        1   \n",
       "4  10252      SUPRD           4  2012-07-09   2012-08-06  2012-07-11        2   \n",
       "\n",
       "   Freight                   ShipName           ShipAddress        ShipCity  \\\n",
       "0    32.38  Vins et alcools Chevalier    59 rue de l'Abbaye           Reims   \n",
       "1    11.61         Toms Spezialitäten         Luisenstr. 48         Münster   \n",
       "2    65.83              Hanari Carnes       Rua do Paço, 67  Rio de Janeiro   \n",
       "3    41.34       Victuailles en stock    2, rue du Commerce            Lyon   \n",
       "4    51.30           Suprêmes délices  Boulevard Tirou, 255       Charleroi   \n",
       "\n",
       "       ShipRegion ShipPostalCode ShipCountry  \n",
       "0  Western Europe          51100      France  \n",
       "1  Western Europe          44087     Germany  \n",
       "2   South America      05454-876      Brazil  \n",
       "3  Western Europe          69004      France  \n",
       "4  Western Europe         B-6000     Belgium  "
      ]
     },
<<<<<<< HEAD
     "execution_count": 6,
=======
     "execution_count": 7,
>>>>>>> 04766fb820eca212a3d7937313ba7748d4fc895c
     "metadata": {},
     "output_type": "execute_result"
    }
   ],
   "source": [
<<<<<<< HEAD
    "q = '''Select *\n",
    "FROM [Order]''' #simple query get everything from [Order]\n",
=======
    "q = '''SELECT * from [Order]''' #simple query get everything from [Order]\n",
>>>>>>> 04766fb820eca212a3d7937313ba7748d4fc895c
    "df_order = pd.read_sql_query(q, engine) #puts the information from the query into a dataframe\n",
    "df_order.head()"
   ]
  },
  {
   "cell_type": "markdown",
   "metadata": {},
   "source": [
    "Fantasic, now lets start flushing out answers to those inital questions\n",
    "\n",
    "## How much of what are we selling?"
   ]
  },
  {
   "cell_type": "markdown",
   "metadata": {},
   "source": [
    "Lets check the Product table and the Order Detail table"
   ]
  },
  {
   "cell_type": "markdown",
   "metadata": {},
   "source": [
    "Looks like the table is ERD is wrong again. Some of the tables are incorrectly stated i.e. ProductID is just Id"
   ]
  },
  {
   "cell_type": "code",
<<<<<<< HEAD
   "execution_count": 7,
=======
   "execution_count": 8,
>>>>>>> 04766fb820eca212a3d7937313ba7748d4fc895c
   "metadata": {},
   "outputs": [
    {
     "name": "stdout",
     "output_type": "stream",
     "text": [
<<<<<<< HEAD
      "2020-02-10 11:18:31,341 INFO sqlalchemy.engine.base.Engine SELECT p.ProductName, c.CategoryName, SUM(o.Quantity) num_ordered FROM Product p LEFT JOIN OrderDetail o ON o.ProductId = p.Id LEFT JOIN Category c ON c.Id = p.CategoryId GROUP BY p.ProductName ORDER BY num_ordered DESC\n",
      "2020-02-10 11:18:31,345 INFO sqlalchemy.engine.base.Engine ()\n"
=======
      "2020-02-10 11:20:26,312 INFO sqlalchemy.engine.base.Engine SELECT p.ProductName, c.CategoryName, SUM(o.Quantity) num_ordered FROM Product p LEFT JOIN OrderDetail o ON o.ProductId = p.Id LEFT JOIN Category c ON c.Id = p.CategoryId GROUP BY p.ProductName ORDER BY num_ordered DESC\n",
      "2020-02-10 11:20:26,313 INFO sqlalchemy.engine.base.Engine ()\n"
>>>>>>> 04766fb820eca212a3d7937313ba7748d4fc895c
     ]
    },
    {
     "data": {
      "text/html": [
       "<div>\n",
       "<style scoped>\n",
       "    .dataframe tbody tr th:only-of-type {\n",
       "        vertical-align: middle;\n",
       "    }\n",
       "\n",
       "    .dataframe tbody tr th {\n",
       "        vertical-align: top;\n",
       "    }\n",
       "\n",
       "    .dataframe thead th {\n",
       "        text-align: right;\n",
       "    }\n",
       "</style>\n",
       "<table border=\"1\" class=\"dataframe\">\n",
       "  <thead>\n",
       "    <tr style=\"text-align: right;\">\n",
       "      <th></th>\n",
       "      <th>ProductName</th>\n",
       "      <th>CategoryName</th>\n",
       "      <th>num_ordered</th>\n",
       "    </tr>\n",
       "  </thead>\n",
       "  <tbody>\n",
       "    <tr>\n",
<<<<<<< HEAD
       "      <td>0</td>\n",
=======
       "      <th>0</th>\n",
>>>>>>> 04766fb820eca212a3d7937313ba7748d4fc895c
       "      <td>Camembert Pierrot</td>\n",
       "      <td>Dairy Products</td>\n",
       "      <td>1577</td>\n",
       "    </tr>\n",
       "    <tr>\n",
<<<<<<< HEAD
       "      <td>1</td>\n",
=======
       "      <th>1</th>\n",
>>>>>>> 04766fb820eca212a3d7937313ba7748d4fc895c
       "      <td>Raclette Courdavault</td>\n",
       "      <td>Dairy Products</td>\n",
       "      <td>1496</td>\n",
       "    </tr>\n",
       "    <tr>\n",
<<<<<<< HEAD
       "      <td>2</td>\n",
=======
       "      <th>2</th>\n",
>>>>>>> 04766fb820eca212a3d7937313ba7748d4fc895c
       "      <td>Gorgonzola Telino</td>\n",
       "      <td>Dairy Products</td>\n",
       "      <td>1397</td>\n",
       "    </tr>\n",
       "    <tr>\n",
<<<<<<< HEAD
       "      <td>3</td>\n",
=======
       "      <th>3</th>\n",
>>>>>>> 04766fb820eca212a3d7937313ba7748d4fc895c
       "      <td>Gnocchi di nonna Alice</td>\n",
       "      <td>Grains/Cereals</td>\n",
       "      <td>1263</td>\n",
       "    </tr>\n",
       "    <tr>\n",
<<<<<<< HEAD
       "      <td>4</td>\n",
=======
       "      <th>4</th>\n",
>>>>>>> 04766fb820eca212a3d7937313ba7748d4fc895c
       "      <td>Pavlova</td>\n",
       "      <td>Confections</td>\n",
       "      <td>1158</td>\n",
       "    </tr>\n",
       "  </tbody>\n",
       "</table>\n",
       "</div>"
      ],
      "text/plain": [
       "              ProductName    CategoryName  num_ordered\n",
       "0       Camembert Pierrot  Dairy Products         1577\n",
       "1    Raclette Courdavault  Dairy Products         1496\n",
       "2       Gorgonzola Telino  Dairy Products         1397\n",
       "3  Gnocchi di nonna Alice  Grains/Cereals         1263\n",
       "4                 Pavlova     Confections         1158"
      ]
     },
<<<<<<< HEAD
     "execution_count": 7,
=======
     "execution_count": 8,
>>>>>>> 04766fb820eca212a3d7937313ba7748d4fc895c
     "metadata": {},
     "output_type": "execute_result"
    }
   ],
   "source": [
    "q='''SELECT p.ProductName, c.CategoryName, SUM(o.Quantity) num_ordered \\\n",
    "FROM Product p \\\n",
    "LEFT JOIN OrderDetail o ON o.ProductId = p.Id \\\n",
    "LEFT JOIN Category c ON c.Id = p.CategoryId \\\n",
    "GROUP BY p.ProductName ORDER BY num_ordered DESC'''\n",
    "df1 = pd.read_sql_query(q, engine)\n",
    "df1.head()"
   ]
  },
  {
   "cell_type": "code",
<<<<<<< HEAD
   "execution_count": 8,
=======
   "execution_count": 9,
>>>>>>> 04766fb820eca212a3d7937313ba7748d4fc895c
   "metadata": {},
   "outputs": [
    {
     "data": {
      "text/plain": [
       "Confections       13\n",
       "Beverages         12\n",
<<<<<<< HEAD
       "Condiments        12\n",
       "Seafood           12\n",
=======
       "Seafood           12\n",
       "Condiments        12\n",
>>>>>>> 04766fb820eca212a3d7937313ba7748d4fc895c
       "Dairy Products    10\n",
       "Grains/Cereals     7\n",
       "Meat/Poultry       6\n",
       "Produce            5\n",
       "Name: CategoryName, dtype: int64"
      ]
     },
<<<<<<< HEAD
     "execution_count": 8,
=======
     "execution_count": 9,
>>>>>>> 04766fb820eca212a3d7937313ba7748d4fc895c
     "metadata": {},
     "output_type": "execute_result"
    }
   ],
   "source": [
    "#value_counts of the categories\n",
    "df1.CategoryName.value_counts()"
   ]
  },
  {
   "cell_type": "markdown",
   "metadata": {},
   "source": [
    "\n",
    "## Who are our main suppliers?"
   ]
  },
  {
   "cell_type": "code",
<<<<<<< HEAD
   "execution_count": 9,
=======
   "execution_count": 10,
>>>>>>> 04766fb820eca212a3d7937313ba7748d4fc895c
   "metadata": {},
   "outputs": [
    {
     "name": "stdout",
     "output_type": "stream",
     "text": [
<<<<<<< HEAD
      "2020-02-10 11:23:00,037 INFO sqlalchemy.engine.base.Engine SELECT s.CompanyName, s.Region, COUNT(*) num_of_orders FROM [Order] o LEFT JOIN OrderDetail od ON o.Id = od.OrderId LEFT JOIN Product p ON od.ProductId = p.Id LEFT JOIN Supplier s ON p.SupplierId = s.Id GROUP BY s.CompanyName ORDER BY num_of_orders DESC\n",
      "2020-02-10 11:23:00,041 INFO sqlalchemy.engine.base.Engine ()\n"
=======
      "2020-02-10 11:23:26,744 INFO sqlalchemy.engine.base.Engine SELECT s.CompanyName, s.Region, COUNT(*) num_of_orders FROM [Order] o LEFT JOIN OrderDetail od ON o.Id = od.OrderId LEFT JOIN Product p ON od.ProductId = p.Id LEFT JOIN Supplier s ON p.SupplierId = s.Id GROUP BY s.CompanyName ORDER BY num_of_orders DESC\n",
      "2020-02-10 11:23:26,745 INFO sqlalchemy.engine.base.Engine ()\n"
>>>>>>> 04766fb820eca212a3d7937313ba7748d4fc895c
     ]
    },
    {
     "data": {
      "text/html": [
       "<div>\n",
       "<style scoped>\n",
       "    .dataframe tbody tr th:only-of-type {\n",
       "        vertical-align: middle;\n",
       "    }\n",
       "\n",
       "    .dataframe tbody tr th {\n",
       "        vertical-align: top;\n",
       "    }\n",
       "\n",
       "    .dataframe thead th {\n",
       "        text-align: right;\n",
       "    }\n",
       "</style>\n",
       "<table border=\"1\" class=\"dataframe\">\n",
       "  <thead>\n",
       "    <tr style=\"text-align: right;\">\n",
       "      <th></th>\n",
       "      <th>CompanyName</th>\n",
       "      <th>Region</th>\n",
       "      <th>num_of_orders</th>\n",
       "    </tr>\n",
       "  </thead>\n",
       "  <tbody>\n",
       "    <tr>\n",
<<<<<<< HEAD
       "      <td>0</td>\n",
=======
       "      <th>0</th>\n",
>>>>>>> 04766fb820eca212a3d7937313ba7748d4fc895c
       "      <td>Plutzer Lebensmittelgroßmärkte AG</td>\n",
       "      <td>Western Europe</td>\n",
       "      <td>179</td>\n",
       "    </tr>\n",
       "    <tr>\n",
<<<<<<< HEAD
       "      <td>1</td>\n",
=======
       "      <th>1</th>\n",
>>>>>>> 04766fb820eca212a3d7937313ba7748d4fc895c
       "      <td>Pavlova, Ltd.</td>\n",
       "      <td>Victoria</td>\n",
       "      <td>163</td>\n",
       "    </tr>\n",
       "    <tr>\n",
<<<<<<< HEAD
       "      <td>2</td>\n",
=======
       "      <th>2</th>\n",
>>>>>>> 04766fb820eca212a3d7937313ba7748d4fc895c
       "      <td>Specialty Biscuits, Ltd.</td>\n",
       "      <td>British Isles</td>\n",
       "      <td>126</td>\n",
       "    </tr>\n",
       "    <tr>\n",
<<<<<<< HEAD
       "      <td>3</td>\n",
=======
       "      <th>3</th>\n",
>>>>>>> 04766fb820eca212a3d7937313ba7748d4fc895c
       "      <td>Norske Meierier</td>\n",
       "      <td>Scandinavia</td>\n",
       "      <td>105</td>\n",
       "    </tr>\n",
       "    <tr>\n",
<<<<<<< HEAD
       "      <td>4</td>\n",
=======
       "      <th>4</th>\n",
>>>>>>> 04766fb820eca212a3d7937313ba7748d4fc895c
       "      <td>Gai pâturage</td>\n",
       "      <td>Western Europe</td>\n",
       "      <td>105</td>\n",
       "    </tr>\n",
       "  </tbody>\n",
       "</table>\n",
       "</div>"
      ],
      "text/plain": [
       "                         CompanyName          Region  num_of_orders\n",
       "0  Plutzer Lebensmittelgroßmärkte AG  Western Europe            179\n",
       "1                      Pavlova, Ltd.        Victoria            163\n",
       "2           Specialty Biscuits, Ltd.   British Isles            126\n",
       "3                    Norske Meierier     Scandinavia            105\n",
       "4                       Gai pâturage  Western Europe            105"
      ]
     },
<<<<<<< HEAD
     "execution_count": 9,
=======
     "execution_count": 10,
>>>>>>> 04766fb820eca212a3d7937313ba7748d4fc895c
     "metadata": {},
     "output_type": "execute_result"
    }
   ],
   "source": [
    "q = '''SELECT s.CompanyName, s.Region, COUNT(*) num_of_orders FROM [Order] o \\\n",
    "LEFT JOIN OrderDetail od ON o.Id = od.OrderId \\\n",
    "LEFT JOIN Product p ON od.ProductId = p.Id \\\n",
    "LEFT JOIN Supplier s ON p.SupplierId = s.Id \\\n",
    "GROUP BY s.CompanyName \\\n",
    "ORDER BY num_of_orders DESC'''\n",
    "\n",
    "df2 = pd.read_sql_query(q, engine)\n",
    "df2.head()"
   ]
  },
  {
   "cell_type": "code",
<<<<<<< HEAD
   "execution_count": 11,
=======
   "execution_count": 18,
>>>>>>> 04766fb820eca212a3d7937313ba7748d4fc895c
   "metadata": {},
   "outputs": [
    {
     "data": {
      "text/plain": [
<<<<<<< HEAD
       "North America      6\n",
       "Western Europe     6\n",
       "Northern Europe    4\n",
       "Southern Europe    3\n",
       "British Isles      2\n",
       "Scandinavia        2\n",
       "Eastern Asia       2\n",
       "Victoria           1\n",
       "NSW                1\n",
       "South America      1\n",
       "South-East Asia    1\n",
       "Name: Region, dtype: int64"
      ]
     },
     "metadata": {},
     "output_type": "display_data"
    },
    {
     "data": {
      "text/plain": [
       "74.3103448275862"
      ]
     },
     "execution_count": 11,
=======
       "(29, 3)"
      ]
     },
     "execution_count": 18,
>>>>>>> 04766fb820eca212a3d7937313ba7748d4fc895c
     "metadata": {},
     "output_type": "execute_result"
    }
   ],
<<<<<<< HEAD
   "source": [
    "#value_counts to see what region\n",
    "display(df2.Region.value_counts())\n",
    "#average number of orders\n",
    "df2.num_of_orders.mean()"
=======
   "source": [
    "df2.shape"
   ]
  },
  {
   "cell_type": "code",
   "execution_count": 11,
   "metadata": {},
   "outputs": [
    {
     "name": "stdout",
     "output_type": "stream",
     "text": [
      "North America      6\n",
      "Western Europe     6\n",
      "Northern Europe    4\n",
      "Southern Europe    3\n",
      "British Isles      2\n",
      "Scandinavia        2\n",
      "Eastern Asia       2\n",
      "NSW                1\n",
      "South America      1\n",
      "South-East Asia    1\n",
      "Victoria           1\n",
      "Name: Region, dtype: int64\n"
     ]
    }
   ],
   "source": [
    "#value_counts to see what region\n",
    "print(df2.Region.value_counts())"
>>>>>>> 04766fb820eca212a3d7937313ba7748d4fc895c
   ]
  },
  {
   "cell_type": "code",
   "execution_count": 12,
   "metadata": {},
   "outputs": [
    {
     "data": {
      "text/plain": [
<<<<<<< HEAD
       "array(['Plutzer Lebensmittelgroßmärkte AG', 'Pavlova, Ltd.',\n",
       "       'Specialty Biscuits, Ltd.', 'Norske Meierier', 'Gai pâturage',\n",
       "       'Formaggi Fortini s.r.l.', \"G'day, Mate\", 'Exotic Liquids',\n",
       "       'New England Seafood Cannery', 'Leka Trading',\n",
       "       'Pasta Buttini s.r.l.', \"Forêts d'érables\",\n",
       "       'New Orleans Cajun Delights', 'Karkki Oy', 'Ma Maison', \"Mayumi's\",\n",
       "       'Bigfoot Breweries', 'Heli Süßwaren GmbH & Co. KG',\n",
       "       \"Grandma Kelly's Homestead\", 'Aux joyeux ecclésiastiques',\n",
       "       \"Cooperativa de Quesos 'Las Cabras'\", 'Tokyo Traders',\n",
       "       'Svensk Sjöföda AB', 'Refrescos Americanas LTDA', 'Lyngbysild',\n",
       "       'PB Knäckebröd AB', 'Nord-Ost-Fisch Handelsgesellschaft mbH',\n",
       "       'Zaanse Snoepfabriek', 'Escargots Nouveaux'], dtype=object)"
=======
       "74.3103448275862"
>>>>>>> 04766fb820eca212a3d7937313ba7748d4fc895c
      ]
     },
     "execution_count": 12,
     "metadata": {},
     "output_type": "execute_result"
    }
   ],
   "source": [
<<<<<<< HEAD
    "df2.CompanyName.unique()"
=======
    "#average number of orders\n",
    "df2.num_of_orders.mean()"
>>>>>>> 04766fb820eca212a3d7937313ba7748d4fc895c
   ]
  },
  {
   "cell_type": "code",
<<<<<<< HEAD
   "execution_count": 14,
   "metadata": {},
   "outputs": [
    {
     "data": {
      "text/plain": [
       "(29, 3)"
      ]
     },
     "execution_count": 14,
     "metadata": {},
     "output_type": "execute_result"
    }
   ],
   "source": [
    "df2.shape"
   ]
  },
  {
   "cell_type": "code",
   "execution_count": 15,
=======
   "execution_count": 19,
>>>>>>> 04766fb820eca212a3d7937313ba7748d4fc895c
   "metadata": {},
   "outputs": [
    {
     "name": "stdout",
     "output_type": "stream",
     "text": [
<<<<<<< HEAD
      "2020-02-10 11:31:46,459 INFO sqlalchemy.engine.base.Engine Select LastName, Title, Region\n",
      "From Employee\n",
      "2020-02-10 11:31:46,463 INFO sqlalchemy.engine.base.Engine ()\n"
=======
      "2020-02-10 11:31:48,796 INFO sqlalchemy.engine.base.Engine SELECT LastName, Title, Region from Employee\n",
      "2020-02-10 11:31:48,798 INFO sqlalchemy.engine.base.Engine ()\n"
>>>>>>> 04766fb820eca212a3d7937313ba7748d4fc895c
     ]
    },
    {
     "data": {
      "text/html": [
       "<div>\n",
       "<style scoped>\n",
       "    .dataframe tbody tr th:only-of-type {\n",
       "        vertical-align: middle;\n",
       "    }\n",
       "\n",
       "    .dataframe tbody tr th {\n",
       "        vertical-align: top;\n",
       "    }\n",
       "\n",
       "    .dataframe thead th {\n",
       "        text-align: right;\n",
       "    }\n",
       "</style>\n",
       "<table border=\"1\" class=\"dataframe\">\n",
       "  <thead>\n",
       "    <tr style=\"text-align: right;\">\n",
       "      <th></th>\n",
       "      <th>LastName</th>\n",
       "      <th>Title</th>\n",
       "      <th>Region</th>\n",
       "    </tr>\n",
       "  </thead>\n",
       "  <tbody>\n",
       "    <tr>\n",
<<<<<<< HEAD
       "      <td>0</td>\n",
=======
       "      <th>0</th>\n",
>>>>>>> 04766fb820eca212a3d7937313ba7748d4fc895c
       "      <td>Davolio</td>\n",
       "      <td>Sales Representative</td>\n",
       "      <td>North America</td>\n",
       "    </tr>\n",
       "    <tr>\n",
<<<<<<< HEAD
       "      <td>1</td>\n",
=======
       "      <th>1</th>\n",
>>>>>>> 04766fb820eca212a3d7937313ba7748d4fc895c
       "      <td>Fuller</td>\n",
       "      <td>Vice President, Sales</td>\n",
       "      <td>North America</td>\n",
       "    </tr>\n",
       "    <tr>\n",
<<<<<<< HEAD
       "      <td>2</td>\n",
=======
       "      <th>2</th>\n",
>>>>>>> 04766fb820eca212a3d7937313ba7748d4fc895c
       "      <td>Leverling</td>\n",
       "      <td>Sales Representative</td>\n",
       "      <td>North America</td>\n",
       "    </tr>\n",
       "    <tr>\n",
<<<<<<< HEAD
       "      <td>3</td>\n",
=======
       "      <th>3</th>\n",
>>>>>>> 04766fb820eca212a3d7937313ba7748d4fc895c
       "      <td>Peacock</td>\n",
       "      <td>Sales Representative</td>\n",
       "      <td>North America</td>\n",
       "    </tr>\n",
       "    <tr>\n",
<<<<<<< HEAD
       "      <td>4</td>\n",
=======
       "      <th>4</th>\n",
>>>>>>> 04766fb820eca212a3d7937313ba7748d4fc895c
       "      <td>Buchanan</td>\n",
       "      <td>Sales Manager</td>\n",
       "      <td>British Isles</td>\n",
       "    </tr>\n",
       "  </tbody>\n",
       "</table>\n",
       "</div>"
      ],
      "text/plain": [
       "    LastName                  Title         Region\n",
       "0    Davolio   Sales Representative  North America\n",
       "1     Fuller  Vice President, Sales  North America\n",
       "2  Leverling   Sales Representative  North America\n",
       "3    Peacock   Sales Representative  North America\n",
       "4   Buchanan          Sales Manager  British Isles"
      ]
     },
<<<<<<< HEAD
     "execution_count": 15,
=======
     "execution_count": 19,
>>>>>>> 04766fb820eca212a3d7937313ba7748d4fc895c
     "metadata": {},
     "output_type": "execute_result"
    }
   ],
   "source": [
<<<<<<< HEAD
    "q ='''Select LastName, Title, Region\n",
    "From Employee''' #query of where our employees are using the Employee table\n",
=======
    "q = '''SELECT LastName, Title, Region from Employee'''\n",
>>>>>>> 04766fb820eca212a3d7937313ba7748d4fc895c
    "\n",
    "df2 = pd.read_sql_query(q, engine)\n",
    "df2.head()"
   ]
  },
  {
   "cell_type": "code",
<<<<<<< HEAD
   "execution_count": 16,
=======
   "execution_count": 23,
>>>>>>> 04766fb820eca212a3d7937313ba7748d4fc895c
   "metadata": {},
   "outputs": [
    {
     "data": {
<<<<<<< HEAD
      "text/html": [
       "<div>\n",
       "<style scoped>\n",
       "    .dataframe tbody tr th:only-of-type {\n",
       "        vertical-align: middle;\n",
       "    }\n",
       "\n",
       "    .dataframe tbody tr th {\n",
       "        vertical-align: top;\n",
       "    }\n",
       "\n",
       "    .dataframe thead th {\n",
       "        text-align: right;\n",
       "    }\n",
       "</style>\n",
       "<table border=\"1\" class=\"dataframe\">\n",
       "  <thead>\n",
       "    <tr style=\"text-align: right;\">\n",
       "      <th></th>\n",
       "      <th>LastName</th>\n",
       "      <th>Title</th>\n",
       "    </tr>\n",
       "    <tr>\n",
       "      <th>Region</th>\n",
       "      <th></th>\n",
       "      <th></th>\n",
       "    </tr>\n",
       "  </thead>\n",
       "  <tbody>\n",
       "    <tr>\n",
       "      <td>British Isles</td>\n",
       "      <td>4</td>\n",
       "      <td>4</td>\n",
       "    </tr>\n",
       "    <tr>\n",
       "      <td>North America</td>\n",
       "      <td>5</td>\n",
       "      <td>5</td>\n",
       "    </tr>\n",
       "  </tbody>\n",
       "</table>\n",
       "</div>"
      ],
      "text/plain": [
       "               LastName  Title\n",
       "Region                        \n",
       "British Isles         4      4\n",
       "North America         5      5"
      ]
     },
     "execution_count": 16,
=======
      "text/plain": [
       "(9, 3)"
      ]
     },
     "execution_count": 23,
     "metadata": {},
     "output_type": "execute_result"
    }
   ],
   "source": [
    "df2.shape"
   ]
  },
  {
   "cell_type": "code",
   "execution_count": 26,
   "metadata": {},
   "outputs": [
    {
     "data": {
      "text/plain": [
       "North America    5\n",
       "British Isles    4\n",
       "Name: Region, dtype: int64"
      ]
     },
     "execution_count": 26,
>>>>>>> 04766fb820eca212a3d7937313ba7748d4fc895c
     "metadata": {},
     "output_type": "execute_result"
    }
   ],
   "source": [
    "#now check out where all the regions these people are from\n",
<<<<<<< HEAD
    "df2.groupby('Region').count()"
=======
    "df2.Region.value_counts()"
>>>>>>> 04766fb820eca212a3d7937313ba7748d4fc895c
   ]
  },
  {
   "cell_type": "markdown",
   "metadata": {},
   "source": [
    "# 2) Is there a difference in the money generated from sales between the North America office and the British Island office?"
   ]
  },
  {
   "cell_type": "markdown",
   "metadata": {},
   "source": [
    "The employees of this company are based in two central locations. I want to know if one office is better at business than the other. The metric will be money generated (products ordered * price) with the differential based on one office or another.\n",
    "\n",
    "$H_{o} =$ The employees based out of the British Island office generates the same amount revenue, per order, than the North American office.  \n",
    "$H_{a} =$ The employees based out of the British Island office generates less revenue, per order, than the North American office.  \n",
    "$\\alpha = 0.05$"
   ]
  },
  {
   "cell_type": "markdown",
   "metadata": {},
   "source": [
    "### 2-1 Inital Analysis\n"
   ]
  },
  {
   "cell_type": "code",
<<<<<<< HEAD
   "execution_count": 17,
=======
   "execution_count": 27,
>>>>>>> 04766fb820eca212a3d7937313ba7748d4fc895c
   "metadata": {},
   "outputs": [
    {
     "name": "stdout",
     "output_type": "stream",
     "text": [
<<<<<<< HEAD
      "2020-02-10 11:38:37,843 INFO sqlalchemy.engine.base.Engine SELECT od.OrderId, SUM(od.UnitPrice*od.Quantity) AS generated, e.Region AS employ_from FROM OrderDetail od LEFT JOIN [Order] o ON od.OrderId = o.Id LEFT JOIN Employee e ON o.EmployeeId = e.Id\n",
      "GROUP BY od.OrderId\n",
      "2020-02-10 11:38:37,847 INFO sqlalchemy.engine.base.Engine ()\n"
=======
      "2020-02-10 11:37:01,879 INFO sqlalchemy.engine.base.Engine SELECT od.OrderId, SUM(od.UnitPrice*od.Quantity) AS generated, e.Region AS employ_from FROM OrderDetail od LEFT JOIN [Order] o ON od.OrderId = o.Id LEFT JOIN Employee e ON o.EmployeeId = e.Id\n",
      "GROUP BY od.OrderId\n",
      "2020-02-10 11:37:01,880 INFO sqlalchemy.engine.base.Engine ()\n"
>>>>>>> 04766fb820eca212a3d7937313ba7748d4fc895c
     ]
    },
    {
     "data": {
      "text/html": [
       "<div>\n",
       "<style scoped>\n",
       "    .dataframe tbody tr th:only-of-type {\n",
       "        vertical-align: middle;\n",
       "    }\n",
       "\n",
       "    .dataframe tbody tr th {\n",
       "        vertical-align: top;\n",
       "    }\n",
       "\n",
       "    .dataframe thead th {\n",
       "        text-align: right;\n",
       "    }\n",
       "</style>\n",
       "<table border=\"1\" class=\"dataframe\">\n",
       "  <thead>\n",
       "    <tr style=\"text-align: right;\">\n",
       "      <th></th>\n",
       "      <th>OrderId</th>\n",
       "      <th>generated</th>\n",
       "      <th>employ_from</th>\n",
       "    </tr>\n",
       "  </thead>\n",
       "  <tbody>\n",
       "    <tr>\n",
<<<<<<< HEAD
       "      <td>0</td>\n",
=======
       "      <th>0</th>\n",
>>>>>>> 04766fb820eca212a3d7937313ba7748d4fc895c
       "      <td>10248</td>\n",
       "      <td>440.0</td>\n",
       "      <td>British Isles</td>\n",
       "    </tr>\n",
       "    <tr>\n",
<<<<<<< HEAD
       "      <td>1</td>\n",
=======
       "      <th>1</th>\n",
>>>>>>> 04766fb820eca212a3d7937313ba7748d4fc895c
       "      <td>10249</td>\n",
       "      <td>1863.4</td>\n",
       "      <td>British Isles</td>\n",
       "    </tr>\n",
       "    <tr>\n",
<<<<<<< HEAD
       "      <td>2</td>\n",
=======
       "      <th>2</th>\n",
>>>>>>> 04766fb820eca212a3d7937313ba7748d4fc895c
       "      <td>10250</td>\n",
       "      <td>1813.0</td>\n",
       "      <td>North America</td>\n",
       "    </tr>\n",
       "    <tr>\n",
<<<<<<< HEAD
       "      <td>3</td>\n",
=======
       "      <th>3</th>\n",
>>>>>>> 04766fb820eca212a3d7937313ba7748d4fc895c
       "      <td>10251</td>\n",
       "      <td>670.8</td>\n",
       "      <td>North America</td>\n",
       "    </tr>\n",
       "    <tr>\n",
<<<<<<< HEAD
       "      <td>4</td>\n",
=======
       "      <th>4</th>\n",
>>>>>>> 04766fb820eca212a3d7937313ba7748d4fc895c
       "      <td>10252</td>\n",
       "      <td>3730.0</td>\n",
       "      <td>North America</td>\n",
       "    </tr>\n",
       "    <tr>\n",
<<<<<<< HEAD
       "      <td>5</td>\n",
=======
       "      <th>5</th>\n",
>>>>>>> 04766fb820eca212a3d7937313ba7748d4fc895c
       "      <td>10253</td>\n",
       "      <td>1444.8</td>\n",
       "      <td>North America</td>\n",
       "    </tr>\n",
       "    <tr>\n",
<<<<<<< HEAD
       "      <td>6</td>\n",
=======
       "      <th>6</th>\n",
>>>>>>> 04766fb820eca212a3d7937313ba7748d4fc895c
       "      <td>10254</td>\n",
       "      <td>625.2</td>\n",
       "      <td>British Isles</td>\n",
       "    </tr>\n",
       "    <tr>\n",
<<<<<<< HEAD
       "      <td>7</td>\n",
=======
       "      <th>7</th>\n",
>>>>>>> 04766fb820eca212a3d7937313ba7748d4fc895c
       "      <td>10255</td>\n",
       "      <td>2490.5</td>\n",
       "      <td>British Isles</td>\n",
       "    </tr>\n",
       "    <tr>\n",
<<<<<<< HEAD
       "      <td>8</td>\n",
=======
       "      <th>8</th>\n",
>>>>>>> 04766fb820eca212a3d7937313ba7748d4fc895c
       "      <td>10256</td>\n",
       "      <td>517.8</td>\n",
       "      <td>North America</td>\n",
       "    </tr>\n",
       "    <tr>\n",
<<<<<<< HEAD
       "      <td>9</td>\n",
=======
       "      <th>9</th>\n",
>>>>>>> 04766fb820eca212a3d7937313ba7748d4fc895c
       "      <td>10257</td>\n",
       "      <td>1119.9</td>\n",
       "      <td>North America</td>\n",
       "    </tr>\n",
       "  </tbody>\n",
       "</table>\n",
       "</div>"
      ],
      "text/plain": [
       "   OrderId  generated    employ_from\n",
       "0    10248      440.0  British Isles\n",
       "1    10249     1863.4  British Isles\n",
       "2    10250     1813.0  North America\n",
       "3    10251      670.8  North America\n",
       "4    10252     3730.0  North America\n",
       "5    10253     1444.8  North America\n",
       "6    10254      625.2  British Isles\n",
       "7    10255     2490.5  British Isles\n",
       "8    10256      517.8  North America\n",
       "9    10257     1119.9  North America"
      ]
     },
<<<<<<< HEAD
     "execution_count": 17,
=======
     "execution_count": 27,
>>>>>>> 04766fb820eca212a3d7937313ba7748d4fc895c
     "metadata": {},
     "output_type": "execute_result"
    }
   ],
   "source": [
    "q = '''SELECT od.OrderId, SUM(od.UnitPrice*od.Quantity) AS generated, e.Region AS employ_from \\\n",
    "FROM OrderDetail od \\\n",
    "LEFT JOIN [Order] o ON od.OrderId = o.Id \\\n",
    "LEFT JOIN Employee e ON o.EmployeeId = e.Id\n",
    "GROUP BY od.OrderId'''\n",
    "\n",
    "df = pd.read_sql_query(q, engine)\n",
    "df.head(10)"
   ]
  },
  {
   "cell_type": "code",
   "execution_count": 29,
   "metadata": {},
   "outputs": [
    {
     "data": {
      "text/html": [
       "<div>\n",
       "<style scoped>\n",
       "    .dataframe tbody tr th:only-of-type {\n",
       "        vertical-align: middle;\n",
       "    }\n",
       "\n",
       "    .dataframe tbody tr th {\n",
       "        vertical-align: top;\n",
       "    }\n",
       "\n",
       "    .dataframe thead th {\n",
       "        text-align: right;\n",
       "    }\n",
       "</style>\n",
       "<table border=\"1\" class=\"dataframe\">\n",
       "  <thead>\n",
       "    <tr style=\"text-align: right;\">\n",
       "      <th></th>\n",
       "      <th>OrderId</th>\n",
       "      <th>generated</th>\n",
       "    </tr>\n",
       "  </thead>\n",
       "  <tbody>\n",
       "    <tr>\n",
       "      <th>count</th>\n",
       "      <td>830.000000</td>\n",
       "      <td>830.000000</td>\n",
       "    </tr>\n",
       "    <tr>\n",
       "      <th>mean</th>\n",
       "      <td>10662.500000</td>\n",
       "      <td>1631.877819</td>\n",
       "    </tr>\n",
       "    <tr>\n",
       "      <th>std</th>\n",
       "      <td>239.744656</td>\n",
       "      <td>1990.613963</td>\n",
       "    </tr>\n",
       "    <tr>\n",
       "      <th>min</th>\n",
       "      <td>10248.000000</td>\n",
       "      <td>12.500000</td>\n",
       "    </tr>\n",
       "    <tr>\n",
       "      <th>25%</th>\n",
       "      <td>10455.250000</td>\n",
       "      <td>480.000000</td>\n",
       "    </tr>\n",
       "    <tr>\n",
       "      <th>50%</th>\n",
       "      <td>10662.500000</td>\n",
       "      <td>1015.900000</td>\n",
       "    </tr>\n",
       "    <tr>\n",
       "      <th>75%</th>\n",
       "      <td>10869.750000</td>\n",
       "      <td>2028.650000</td>\n",
       "    </tr>\n",
       "    <tr>\n",
       "      <th>max</th>\n",
       "      <td>11077.000000</td>\n",
       "      <td>17250.000000</td>\n",
       "    </tr>\n",
       "  </tbody>\n",
       "</table>\n",
       "</div>"
      ],
      "text/plain": [
       "            OrderId     generated\n",
       "count    830.000000    830.000000\n",
       "mean   10662.500000   1631.877819\n",
       "std      239.744656   1990.613963\n",
       "min    10248.000000     12.500000\n",
       "25%    10455.250000    480.000000\n",
       "50%    10662.500000   1015.900000\n",
       "75%    10869.750000   2028.650000\n",
       "max    11077.000000  17250.000000"
      ]
     },
     "execution_count": 29,
     "metadata": {},
     "output_type": "execute_result"
    }
   ],
   "source": [
    "df.describe()"
   ]
  },
  {
   "cell_type": "markdown",
   "metadata": {},
   "source": [
    "Looks like we have all 830 orders. Great."
   ]
  },
  {
   "cell_type": "code",
<<<<<<< HEAD
   "execution_count": 21,
=======
   "execution_count": 33,
>>>>>>> 04766fb820eca212a3d7937313ba7748d4fc895c
   "metadata": {},
   "outputs": [
    {
     "data": {
      "text/html": [
       "<div>\n",
       "<style scoped>\n",
       "    .dataframe tbody tr th:only-of-type {\n",
       "        vertical-align: middle;\n",
       "    }\n",
       "\n",
       "    .dataframe tbody tr th {\n",
       "        vertical-align: top;\n",
       "    }\n",
       "\n",
       "    .dataframe thead th {\n",
       "        text-align: right;\n",
       "    }\n",
       "</style>\n",
       "<table border=\"1\" class=\"dataframe\">\n",
       "  <thead>\n",
       "    <tr style=\"text-align: right;\">\n",
       "      <th>employ_from</th>\n",
       "      <th>British Isles</th>\n",
       "      <th>North America</th>\n",
       "    </tr>\n",
       "  </thead>\n",
       "  <tbody>\n",
       "    <tr>\n",
<<<<<<< HEAD
       "      <td>count</td>\n",
=======
       "      <th>count</th>\n",
>>>>>>> 04766fb820eca212a3d7937313ba7748d4fc895c
       "      <td>224.000000</td>\n",
       "      <td>606.000000</td>\n",
       "    </tr>\n",
       "    <tr>\n",
<<<<<<< HEAD
       "      <td>mean</td>\n",
=======
       "      <th>mean</th>\n",
>>>>>>> 04766fb820eca212a3d7937313ba7748d4fc895c
       "      <td>1687.615357</td>\n",
       "      <td>1611.275165</td>\n",
       "    </tr>\n",
       "    <tr>\n",
<<<<<<< HEAD
       "      <td>std</td>\n",
=======
       "      <th>std</th>\n",
>>>>>>> 04766fb820eca212a3d7937313ba7748d4fc895c
       "      <td>2203.222396</td>\n",
       "      <td>1907.580217</td>\n",
       "    </tr>\n",
       "    <tr>\n",
<<<<<<< HEAD
       "      <td>min</td>\n",
=======
       "      <th>min</th>\n",
>>>>>>> 04766fb820eca212a3d7937313ba7748d4fc895c
       "      <td>12.500000</td>\n",
       "      <td>18.400000</td>\n",
       "    </tr>\n",
       "    <tr>\n",
<<<<<<< HEAD
       "      <td>25%</td>\n",
=======
       "      <th>25%</th>\n",
>>>>>>> 04766fb820eca212a3d7937313ba7748d4fc895c
       "      <td>480.000000</td>\n",
       "      <td>481.100000</td>\n",
       "    </tr>\n",
       "    <tr>\n",
<<<<<<< HEAD
       "      <td>50%</td>\n",
=======
       "      <th>50%</th>\n",
>>>>>>> 04766fb820eca212a3d7937313ba7748d4fc895c
       "      <td>930.125000</td>\n",
       "      <td>1070.500000</td>\n",
       "    </tr>\n",
       "    <tr>\n",
<<<<<<< HEAD
       "      <td>75%</td>\n",
=======
       "      <th>75%</th>\n",
>>>>>>> 04766fb820eca212a3d7937313ba7748d4fc895c
       "      <td>2023.650000</td>\n",
       "      <td>2028.650000</td>\n",
       "    </tr>\n",
       "    <tr>\n",
<<<<<<< HEAD
       "      <td>max</td>\n",
=======
       "      <th>max</th>\n",
>>>>>>> 04766fb820eca212a3d7937313ba7748d4fc895c
       "      <td>16321.900000</td>\n",
       "      <td>17250.000000</td>\n",
       "    </tr>\n",
       "  </tbody>\n",
       "</table>\n",
       "</div>"
      ],
      "text/plain": [
       "employ_from  British Isles  North America\n",
       "count           224.000000     606.000000\n",
       "mean           1687.615357    1611.275165\n",
       "std            2203.222396    1907.580217\n",
       "min              12.500000      18.400000\n",
       "25%             480.000000     481.100000\n",
       "50%             930.125000    1070.500000\n",
       "75%            2023.650000    2028.650000\n",
       "max           16321.900000   17250.000000"
      ]
     },
<<<<<<< HEAD
     "execution_count": 21,
=======
     "execution_count": 33,
>>>>>>> 04766fb820eca212a3d7937313ba7748d4fc895c
     "metadata": {},
     "output_type": "execute_result"
    }
   ],
   "source": [
    "#Find group by the employ_from and then describe the generated amount\n",
    "df.groupby('employ_from')['generated'].describe().T"
   ]
  },
  {
   "cell_type": "markdown",
   "metadata": {},
   "source": [
    "The average made by both offices are close to each other but there is far fewer sales made by the British office. Lets take a quick look at the distribution for both, but look at the above data there is likely to be outliers."
   ]
  },
  {
   "cell_type": "code",
<<<<<<< HEAD
   "execution_count": 27,
=======
   "execution_count": 38,
>>>>>>> 04766fb820eca212a3d7937313ba7748d4fc895c
   "metadata": {},
   "outputs": [
    {
     "data": {
<<<<<<< HEAD
      "image/png": "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\n",
      "text/plain": [
       "<Figure size 432x288 with 1 Axes>"
      ]
     },
     "metadata": {
      "needs_background": "light"
     },
=======
      "text/plain": [
       "Text(0.5, 0, 'Price of order')"
      ]
     },
     "execution_count": 38,
     "metadata": {},
     "output_type": "execute_result"
    },
    {
     "data": {
      "image/png": "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\n",
      "text/plain": [
       "<Figure size 432x288 with 1 Axes>"
      ]
     },
     "metadata": {},
>>>>>>> 04766fb820eca212a3d7937313ba7748d4fc895c
     "output_type": "display_data"
    }
   ],
   "source": [
<<<<<<< HEAD
    "plt.hist('generated', data=df[df.employ_from == 'North America'], label= 'NA')    #ctr A and ctrl ? to uncomment all at the same time\n",
=======
    "plt.hist('generated', data=df[df.employ_from == 'North America'], label= 'NA')\n",
>>>>>>> 04766fb820eca212a3d7937313ba7748d4fc895c
    "plt.hist('generated', data=df[df.employ_from == 'British Isles'], label= 'BI')\n",
    "plt.legend()\n",
    "plt.ylabel('Quantities of order')\n",
    "plt.xlabel('Price of order')\n",
<<<<<<< HEAD
    "plt.savefig('hist money')"
=======
    "#plt.savefig('hist money')"
>>>>>>> 04766fb820eca212a3d7937313ba7748d4fc895c
   ]
  },
  {
   "cell_type": "markdown",
   "metadata": {},
   "source": [
    "There seems to be a few outliers. Lets take care of the egregious ones i.e. anything above 11K"
   ]
  },
  {
   "cell_type": "code",
<<<<<<< HEAD
   "execution_count": 23,
=======
   "execution_count": 35,
>>>>>>> 04766fb820eca212a3d7937313ba7748d4fc895c
   "metadata": {},
   "outputs": [
    {
     "data": {
      "text/plain": [
       "617    17250.00\n",
       "782    16321.90\n",
       "733    15810.00\n",
       "124    12281.20\n",
       "176    11493.20\n",
       "569    11490.70\n",
       "641    11380.00\n",
       "169    11283.20\n",
       "649    10835.24\n",
       "105    10741.60\n",
       "Name: generated, dtype: float64"
      ]
     },
<<<<<<< HEAD
     "execution_count": 23,
=======
     "execution_count": 35,
>>>>>>> 04766fb820eca212a3d7937313ba7748d4fc895c
     "metadata": {},
     "output_type": "execute_result"
    }
   ],
   "source": [
    "df.generated.sort_values(ascending=False).head(10)"
   ]
  },
  {
   "cell_type": "code",
<<<<<<< HEAD
   "execution_count": 24,
=======
   "execution_count": 36,
>>>>>>> 04766fb820eca212a3d7937313ba7748d4fc895c
   "metadata": {},
   "outputs": [],
   "source": [
    "to_drop = [617,782,733,124,176,569,641,169]\n",
    "df.drop(index=to_drop,inplace=True)"
   ]
  },
  {
   "cell_type": "code",
<<<<<<< HEAD
   "execution_count": 26,
=======
   "execution_count": 37,
>>>>>>> 04766fb820eca212a3d7937313ba7748d4fc895c
   "metadata": {},
   "outputs": [
    {
     "data": {
      "text/plain": [
       "649    10835.24\n",
       "105    10741.60\n",
       "267    10588.50\n",
       "231    10495.60\n",
       "292    10191.70\n",
       "443    10164.80\n",
       "784     8902.50\n",
       "568     8891.00\n",
       "266     8623.45\n",
       "664     8267.40\n",
       "Name: generated, dtype: float64"
      ]
     },
<<<<<<< HEAD
     "execution_count": 26,
=======
     "execution_count": 37,
>>>>>>> 04766fb820eca212a3d7937313ba7748d4fc895c
     "metadata": {},
     "output_type": "execute_result"
    }
   ],
   "source": [
    "df.generated.sort_values(ascending=False).head(10)"
   ]
  },
  {
   "cell_type": "code",
<<<<<<< HEAD
   "execution_count": 36,
=======
   "execution_count": 42,
>>>>>>> 04766fb820eca212a3d7937313ba7748d4fc895c
   "metadata": {},
   "outputs": [],
   "source": [
    "#make two new dfs. One that contains all the employees that are employed out of British Isles and a group from North America\n",
    "#Then describe them both\n",
<<<<<<< HEAD
    "\n",
    "brit = df[df['employ_from'] == \"British Isles\"]\n",
    "merica = df[df['employ_from'] == \"North America\"]"
=======
    "brit = df[df.employ_from == \"British Isles\"]\n",
    "merica = df[df.employ_from == \"North America\"]"
>>>>>>> 04766fb820eca212a3d7937313ba7748d4fc895c
   ]
  },
  {
   "cell_type": "code",
<<<<<<< HEAD
   "execution_count": 33,
   "metadata": {},
   "outputs": [],
   "source": [
    "employee_b_df = df[df['employ_from'] == 'British Isles']\n",
    "employee_a_df = df[df['employ_from'] == 'North America']"
   ]
  },
  {
   "cell_type": "code",
   "execution_count": 34,
=======
   "execution_count": 43,
>>>>>>> 04766fb820eca212a3d7937313ba7748d4fc895c
   "metadata": {},
   "outputs": [
    {
     "data": {
      "text/html": [
       "<div>\n",
       "<style scoped>\n",
       "    .dataframe tbody tr th:only-of-type {\n",
       "        vertical-align: middle;\n",
       "    }\n",
       "\n",
       "    .dataframe tbody tr th {\n",
       "        vertical-align: top;\n",
       "    }\n",
       "\n",
       "    .dataframe thead th {\n",
       "        text-align: right;\n",
       "    }\n",
       "</style>\n",
       "<table border=\"1\" class=\"dataframe\">\n",
       "  <thead>\n",
       "    <tr style=\"text-align: right;\">\n",
       "      <th></th>\n",
       "      <th>OrderId</th>\n",
       "      <th>generated</th>\n",
       "    </tr>\n",
       "  </thead>\n",
       "  <tbody>\n",
       "    <tr>\n",
<<<<<<< HEAD
       "      <td>count</td>\n",
=======
       "      <th>count</th>\n",
>>>>>>> 04766fb820eca212a3d7937313ba7748d4fc895c
       "      <td>220.000000</td>\n",
       "      <td>220.000000</td>\n",
       "    </tr>\n",
       "    <tr>\n",
<<<<<<< HEAD
       "      <td>mean</td>\n",
=======
       "      <th>mean</th>\n",
>>>>>>> 04766fb820eca212a3d7937313ba7748d4fc895c
       "      <td>10664.827273</td>\n",
       "      <td>1484.316091</td>\n",
       "    </tr>\n",
       "    <tr>\n",
<<<<<<< HEAD
       "      <td>std</td>\n",
=======
       "      <th>std</th>\n",
>>>>>>> 04766fb820eca212a3d7937313ba7748d4fc895c
       "      <td>235.640635</td>\n",
       "      <td>1594.673307</td>\n",
       "    </tr>\n",
       "    <tr>\n",
<<<<<<< HEAD
       "      <td>min</td>\n",
=======
       "      <th>min</th>\n",
>>>>>>> 04766fb820eca212a3d7937313ba7748d4fc895c
       "      <td>10248.000000</td>\n",
       "      <td>12.500000</td>\n",
       "    </tr>\n",
       "    <tr>\n",
<<<<<<< HEAD
       "      <td>25%</td>\n",
=======
       "      <th>25%</th>\n",
>>>>>>> 04766fb820eca212a3d7937313ba7748d4fc895c
       "      <td>10487.500000</td>\n",
       "      <td>479.850000</td>\n",
       "    </tr>\n",
       "    <tr>\n",
<<<<<<< HEAD
       "      <td>50%</td>\n",
=======
       "      <th>50%</th>\n",
>>>>>>> 04766fb820eca212a3d7937313ba7748d4fc895c
       "      <td>10666.500000</td>\n",
       "      <td>920.300000</td>\n",
       "    </tr>\n",
       "    <tr>\n",
<<<<<<< HEAD
       "      <td>75%</td>\n",
=======
       "      <th>75%</th>\n",
>>>>>>> 04766fb820eca212a3d7937313ba7748d4fc895c
       "      <td>10868.250000</td>\n",
       "      <td>1943.500000</td>\n",
       "    </tr>\n",
       "    <tr>\n",
<<<<<<< HEAD
       "      <td>max</td>\n",
=======
       "      <th>max</th>\n",
>>>>>>> 04766fb820eca212a3d7937313ba7748d4fc895c
       "      <td>11074.000000</td>\n",
       "      <td>10741.600000</td>\n",
       "    </tr>\n",
       "  </tbody>\n",
       "</table>\n",
       "</div>"
      ],
      "text/plain": [
       "            OrderId     generated\n",
       "count    220.000000    220.000000\n",
       "mean   10664.827273   1484.316091\n",
       "std      235.640635   1594.673307\n",
       "min    10248.000000     12.500000\n",
       "25%    10487.500000    479.850000\n",
       "50%    10666.500000    920.300000\n",
       "75%    10868.250000   1943.500000\n",
       "max    11074.000000  10741.600000"
      ]
     },
<<<<<<< HEAD
     "execution_count": 34,
=======
     "execution_count": 43,
>>>>>>> 04766fb820eca212a3d7937313ba7748d4fc895c
     "metadata": {},
     "output_type": "execute_result"
    }
   ],
   "source": [
<<<<<<< HEAD
    "employee_b_df.describe()"
=======
    "brit.describe()"
>>>>>>> 04766fb820eca212a3d7937313ba7748d4fc895c
   ]
  },
  {
   "cell_type": "code",
<<<<<<< HEAD
   "execution_count": 35,
=======
   "execution_count": 44,
>>>>>>> 04766fb820eca212a3d7937313ba7748d4fc895c
   "metadata": {},
   "outputs": [
    {
     "data": {
      "text/html": [
       "<div>\n",
       "<style scoped>\n",
       "    .dataframe tbody tr th:only-of-type {\n",
       "        vertical-align: middle;\n",
       "    }\n",
       "\n",
       "    .dataframe tbody tr th {\n",
       "        vertical-align: top;\n",
       "    }\n",
       "\n",
       "    .dataframe thead th {\n",
       "        text-align: right;\n",
       "    }\n",
       "</style>\n",
       "<table border=\"1\" class=\"dataframe\">\n",
       "  <thead>\n",
       "    <tr style=\"text-align: right;\">\n",
       "      <th></th>\n",
       "      <th>OrderId</th>\n",
       "      <th>generated</th>\n",
       "    </tr>\n",
       "  </thead>\n",
       "  <tbody>\n",
       "    <tr>\n",
<<<<<<< HEAD
       "      <td>count</td>\n",
=======
       "      <th>count</th>\n",
>>>>>>> 04766fb820eca212a3d7937313ba7748d4fc895c
       "      <td>602.000000</td>\n",
       "      <td>602.000000</td>\n",
       "    </tr>\n",
       "    <tr>\n",
<<<<<<< HEAD
       "      <td>mean</td>\n",
=======
       "      <th>mean</th>\n",
>>>>>>> 04766fb820eca212a3d7937313ba7748d4fc895c
       "      <td>10660.827243</td>\n",
       "      <td>1529.233970</td>\n",
       "    </tr>\n",
       "    <tr>\n",
<<<<<<< HEAD
       "      <td>std</td>\n",
=======
       "      <th>std</th>\n",
>>>>>>> 04766fb820eca212a3d7937313ba7748d4fc895c
       "      <td>241.085475</td>\n",
       "      <td>1611.180311</td>\n",
       "    </tr>\n",
       "    <tr>\n",
<<<<<<< HEAD
       "      <td>min</td>\n",
=======
       "      <th>min</th>\n",
>>>>>>> 04766fb820eca212a3d7937313ba7748d4fc895c
       "      <td>10250.000000</td>\n",
       "      <td>18.400000</td>\n",
       "    </tr>\n",
       "    <tr>\n",
<<<<<<< HEAD
       "      <td>25%</td>\n",
=======
       "      <th>25%</th>\n",
>>>>>>> 04766fb820eca212a3d7937313ba7748d4fc895c
       "      <td>10449.250000</td>\n",
       "      <td>479.762500</td>\n",
       "    </tr>\n",
       "    <tr>\n",
<<<<<<< HEAD
       "      <td>50%</td>\n",
=======
       "      <th>50%</th>\n",
>>>>>>> 04766fb820eca212a3d7937313ba7748d4fc895c
       "      <td>10659.000000</td>\n",
       "      <td>1061.200000</td>\n",
       "    </tr>\n",
       "    <tr>\n",
<<<<<<< HEAD
       "      <td>75%</td>\n",
=======
       "      <th>75%</th>\n",
>>>>>>> 04766fb820eca212a3d7937313ba7748d4fc895c
       "      <td>10870.750000</td>\n",
       "      <td>1972.202500</td>\n",
       "    </tr>\n",
       "    <tr>\n",
<<<<<<< HEAD
       "      <td>max</td>\n",
=======
       "      <th>max</th>\n",
>>>>>>> 04766fb820eca212a3d7937313ba7748d4fc895c
       "      <td>11077.000000</td>\n",
       "      <td>10835.240000</td>\n",
       "    </tr>\n",
       "  </tbody>\n",
       "</table>\n",
       "</div>"
      ],
      "text/plain": [
       "            OrderId     generated\n",
       "count    602.000000    602.000000\n",
       "mean   10660.827243   1529.233970\n",
       "std      241.085475   1611.180311\n",
       "min    10250.000000     18.400000\n",
       "25%    10449.250000    479.762500\n",
       "50%    10659.000000   1061.200000\n",
       "75%    10870.750000   1972.202500\n",
       "max    11077.000000  10835.240000"
      ]
     },
<<<<<<< HEAD
     "execution_count": 35,
=======
     "execution_count": 44,
>>>>>>> 04766fb820eca212a3d7937313ba7748d4fc895c
     "metadata": {},
     "output_type": "execute_result"
    }
   ],
   "source": [
<<<<<<< HEAD
    "employee_a_df.describe()"
=======
    "merica.describe()"
>>>>>>> 04766fb820eca212a3d7937313ba7748d4fc895c
   ]
  },
  {
   "cell_type": "markdown",
   "metadata": {},
   "source": [
    "## 2-2 Testing"
   ]
  },
  {
   "cell_type": "markdown",
   "metadata": {},
   "source": [
    "# 2) Is there a difference in the money generated from sales between the North America office and the British Island office?"
   ]
  },
  {
   "cell_type": "markdown",
   "metadata": {},
   "source": [
    "### Mann–Whitney U test\n",
    "\n",
    "Mann–Whitney U test is a nonparametric test of the null hypothesis that it is equally likely that a randomly selected value from one sample will be less than or greater than a randomly selected value from a second sample.\n",
    "\n",
    "Unlike the t-test it does not require the assumption of normal distributions. It is nearly as efficient as the t-test on normal distributions.\n",
    "\n",
    "Mann-Whitney assumptions:  \n",
    "1) The dependent variable should be measured on an ordinal scale or a continuous scale.  \n",
    "2) The independent variable should be two independent, categorical groups.  \n",
    "3) Observations should be independent. In other words, there should be no relationship between the two groups or within each group.  \n",
    "4) Observations are not normally distributed. However, they should follow the same shape (i.e. both are bell-shaped and skewed left).  \n",
    "\n",
    "\n",
    "All assumptions are met within our data. So finally, refining our hypothesis: \n",
    "\n",
    "$H_{o} =$ There is no statistical difference between the meadian revenues generated by the North American office and the British Island office.  \n",
    "$H_{a} =$ There is a statistical difference between the meadian revenues generated by the North American office and the British Island office.  \n",
    "$\\alpha = 0.05$"
   ]
  },
  {
   "cell_type": "code",
<<<<<<< HEAD
   "execution_count": 39,
=======
   "execution_count": 45,
>>>>>>> 04766fb820eca212a3d7937313ba7748d4fc895c
   "metadata": {},
   "outputs": [
    {
     "data": {
<<<<<<< HEAD
      "image/png": "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\n",
=======
      "image/png": "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\n",
>>>>>>> 04766fb820eca212a3d7937313ba7748d4fc895c
      "text/plain": [
       "<Figure size 432x288 with 1 Axes>"
      ]
     },
<<<<<<< HEAD
     "metadata": {
      "needs_background": "light"
     },
=======
     "metadata": {},
>>>>>>> 04766fb820eca212a3d7937313ba7748d4fc895c
     "output_type": "display_data"
    }
   ],
   "source": [
    "merica['generated'].hist(label='American office')\n",
    "brit['generated'].hist(label='British Isle office')\n",
    "plt.title('Histogram of money generate by based on office location')\n",
    "plt.xlabel('Quantity of money')\n",
    "plt.ylabel('Orders count')\n",
    "plt.legend()\n",
    "plt.show()\n",
    "#plt.savefig('hist of money gen')"
   ]
  },
  {
   "cell_type": "code",
<<<<<<< HEAD
   "execution_count": 38,
=======
   "execution_count": 47,
>>>>>>> 04766fb820eca212a3d7937313ba7748d4fc895c
   "metadata": {},
   "outputs": [
    {
     "data": {
      "text/plain": [
       "MannwhitneyuResult(statistic=63545.5, pvalue=0.3749479529063807)"
      ]
     },
     "execution_count": 38,
     "metadata": {},
     "output_type": "execute_result"
    }
   ],
   "source": [
    "from scipy.stats import mannwhitneyu"
   ]
  },
  {
   "cell_type": "code",
   "execution_count": 50,
   "metadata": {},
   "outputs": [
    {
     "data": {
      "text/plain": [
       "MannwhitneyuResult(statistic=63545.5, pvalue=0.3749479529063807)"
      ]
     },
     "execution_count": 50,
     "metadata": {},
     "output_type": "execute_result"
    }
   ],
   "source": [
    "mannwhitneyu(brit.generated, merica.generated, alternative='two-sided')"
   ]
  },
  {
   "cell_type": "markdown",
   "metadata": {
    "jupyter": {
     "source_hidden": true
    }
   },
   "source": [
    "#### Independent T-test\n",
    "\n",
    "Like every test, this inferential statistic test has assumptions. The assumptions that the data must meet in order for the test results to be valid are:  \n",
    "\n",
    "Independent T-test Assumptions\n",
    "- The samples are independently and randomly drawn\n",
    "- The distribution of the residuals between the two groups should follow the normal distribution\n",
    "- The variances between the two groups are equal\n",
    "\n",
    "The first assumption is met. The second assumption can be suspended given a large enough sample size, therefore independent t-test remains quite robust for violations of normality. [More information](http://thestatsgeek.com/2013/09/28/the-t-test-and-robustness-to-non-normality/) on this topic has been provided.\n",
    "\n",
    "Keep in mind that as a parametric test, the independent t-test delivers best and most reliable results if both groups are normally distributed. Reliability decreases for skewed distributions."
   ]
  },
  {
   "cell_type": "code",
   "execution_count": 40,
   "metadata": {},
   "outputs": [
    {
     "data": {
      "text/plain": [
       "Ttest_indResult(statistic=-0.35484137300003266, pvalue=0.722799672488631)"
      ]
     },
     "execution_count": 40,
     "metadata": {},
     "output_type": "execute_result"
    }
   ],
   "source": [
    "ttest_ind(brit.generated, merica.generated)"
   ]
  },
  {
   "cell_type": "markdown",
   "metadata": {},
   "source": [
    "### 2-3 Results"
   ]
  },
  {
   "cell_type": "markdown",
   "metadata": {},
   "source": [
    "- Failed to reject the null hypothesis. There is no statistical difference between the median revenues generated by the North American office and the British Island office \n",
    "- (p-value > $\\alpha$ :: 0.3749 > 0.05)  \n",
    "- Further testing: choosing a different metric and test out hypothesis again.\n",
    "___\n",
    "___"
   ]
  },
  {
   "cell_type": "markdown",
   "metadata": {},
   "source": [
    "# 3) Does having 'manager' in your title effect the amount a customer orders?\n"
   ]
  },
  {
   "cell_type": "markdown",
   "metadata": {},
   "source": [
    "### 3-1 Inital Analysis\n",
    "The customers that we do business with, there are different tiers of titles that they use. I want to know if a manager typically orders more than other customers.\n",
    "\n",
    "$H_{o} =$ Having manager in your title, the amount a customer orders doesn't change  \n",
    "$H_{a} =$ Having manager in your title, the amount a customer orders changes  \n",
    "$\\alpha = 0.05$"
   ]
  },
  {
   "cell_type": "code",
   "execution_count": 41,
   "metadata": {},
   "outputs": [
    {
     "ename": "NameError",
     "evalue": "name 'get_column_info' is not defined",
     "output_type": "error",
     "traceback": [
      "\u001b[1;31m---------------------------------------------------------------------------\u001b[0m",
      "\u001b[1;31mNameError\u001b[0m                                 Traceback (most recent call last)",
      "\u001b[1;32m<ipython-input-41-8ad5747f8bfa>\u001b[0m in \u001b[0;36m<module>\u001b[1;34m\u001b[0m\n\u001b[1;32m----> 1\u001b[1;33m \u001b[0mget_column_info\u001b[0m\u001b[1;33m(\u001b[0m\u001b[1;34m'Customer'\u001b[0m\u001b[1;33m)\u001b[0m\u001b[1;33m\u001b[0m\u001b[1;33m\u001b[0m\u001b[0m\n\u001b[0m",
      "\u001b[1;31mNameError\u001b[0m: name 'get_column_info' is not defined"
     ]
    }
   ],
   "source": [
    "get_column_info('Customer')"
   ]
  },
  {
   "cell_type": "code",
<<<<<<< HEAD
   "execution_count": 42,
=======
   "execution_count": 51,
>>>>>>> 04766fb820eca212a3d7937313ba7748d4fc895c
   "metadata": {},
   "outputs": [
    {
     "name": "stdout",
     "output_type": "stream",
     "text": [
<<<<<<< HEAD
      "2020-02-10 12:15:16,326 INFO sqlalchemy.engine.base.Engine SELECT c.CompanyName, c.ContactTitle, COUNT(*) AS orders_placed FROM OrderDetail od LEFT JOIN [Order] o ON od.OrderId = o.Id LEFT JOIN Customer c ON c.Id = o.CustomerId GROUP BY c.CompanyName\n",
      "2020-02-10 12:15:16,328 INFO sqlalchemy.engine.base.Engine ()\n"
=======
      "2020-02-10 12:15:05,648 INFO sqlalchemy.engine.base.Engine SELECT c.CompanyName, c.ContactTitle, COUNT(*) AS orders_placed FROM OrderDetail od LEFT JOIN [Order] o ON od.OrderId = o.Id LEFT JOIN Customer c ON c.Id = o.CustomerId GROUP BY c.CompanyName\n",
      "2020-02-10 12:15:05,648 INFO sqlalchemy.engine.base.Engine ()\n"
>>>>>>> 04766fb820eca212a3d7937313ba7748d4fc895c
     ]
    },
    {
     "data": {
      "text/html": [
       "<div>\n",
       "<style scoped>\n",
       "    .dataframe tbody tr th:only-of-type {\n",
       "        vertical-align: middle;\n",
       "    }\n",
       "\n",
       "    .dataframe tbody tr th {\n",
       "        vertical-align: top;\n",
       "    }\n",
       "\n",
       "    .dataframe thead th {\n",
       "        text-align: right;\n",
       "    }\n",
       "</style>\n",
       "<table border=\"1\" class=\"dataframe\">\n",
       "  <thead>\n",
       "    <tr style=\"text-align: right;\">\n",
       "      <th></th>\n",
       "      <th>CompanyName</th>\n",
       "      <th>ContactTitle</th>\n",
       "      <th>orders_placed</th>\n",
       "    </tr>\n",
       "  </thead>\n",
       "  <tbody>\n",
       "    <tr>\n",
<<<<<<< HEAD
       "      <td>0</td>\n",
=======
       "      <th>0</th>\n",
>>>>>>> 04766fb820eca212a3d7937313ba7748d4fc895c
       "      <td>None</td>\n",
       "      <td>None</td>\n",
       "      <td>77</td>\n",
       "    </tr>\n",
       "    <tr>\n",
<<<<<<< HEAD
       "      <td>1</td>\n",
=======
       "      <th>1</th>\n",
>>>>>>> 04766fb820eca212a3d7937313ba7748d4fc895c
       "      <td>Alfreds Futterkiste</td>\n",
       "      <td>Sales Representative</td>\n",
       "      <td>12</td>\n",
       "    </tr>\n",
       "    <tr>\n",
<<<<<<< HEAD
       "      <td>2</td>\n",
=======
       "      <th>2</th>\n",
>>>>>>> 04766fb820eca212a3d7937313ba7748d4fc895c
       "      <td>Ana Trujillo Emparedados y helados</td>\n",
       "      <td>Owner</td>\n",
       "      <td>10</td>\n",
       "    </tr>\n",
       "    <tr>\n",
<<<<<<< HEAD
       "      <td>3</td>\n",
=======
       "      <th>3</th>\n",
>>>>>>> 04766fb820eca212a3d7937313ba7748d4fc895c
       "      <td>Around the Horn</td>\n",
       "      <td>Sales Representative</td>\n",
       "      <td>30</td>\n",
       "    </tr>\n",
       "    <tr>\n",
<<<<<<< HEAD
       "      <td>4</td>\n",
=======
       "      <th>4</th>\n",
>>>>>>> 04766fb820eca212a3d7937313ba7748d4fc895c
       "      <td>B's Beverages</td>\n",
       "      <td>Sales Representative</td>\n",
       "      <td>22</td>\n",
       "    </tr>\n",
       "    <tr>\n",
<<<<<<< HEAD
       "      <td>5</td>\n",
=======
       "      <th>5</th>\n",
>>>>>>> 04766fb820eca212a3d7937313ba7748d4fc895c
       "      <td>Berglunds snabbköp</td>\n",
       "      <td>Order Administrator</td>\n",
       "      <td>52</td>\n",
       "    </tr>\n",
       "    <tr>\n",
<<<<<<< HEAD
       "      <td>6</td>\n",
=======
       "      <th>6</th>\n",
>>>>>>> 04766fb820eca212a3d7937313ba7748d4fc895c
       "      <td>Blauer See Delikatessen</td>\n",
       "      <td>Sales Representative</td>\n",
       "      <td>14</td>\n",
       "    </tr>\n",
       "    <tr>\n",
<<<<<<< HEAD
       "      <td>7</td>\n",
=======
       "      <th>7</th>\n",
>>>>>>> 04766fb820eca212a3d7937313ba7748d4fc895c
       "      <td>Blondesddsl père et fils</td>\n",
       "      <td>Marketing Manager</td>\n",
       "      <td>26</td>\n",
       "    </tr>\n",
       "    <tr>\n",
<<<<<<< HEAD
       "      <td>8</td>\n",
=======
       "      <th>8</th>\n",
>>>>>>> 04766fb820eca212a3d7937313ba7748d4fc895c
       "      <td>Bon app</td>\n",
       "      <td>Owner</td>\n",
       "      <td>44</td>\n",
       "    </tr>\n",
       "    <tr>\n",
<<<<<<< HEAD
       "      <td>9</td>\n",
=======
       "      <th>9</th>\n",
>>>>>>> 04766fb820eca212a3d7937313ba7748d4fc895c
       "      <td>Bottom-Dollar Markets</td>\n",
       "      <td>Accounting Manager</td>\n",
       "      <td>35</td>\n",
       "    </tr>\n",
       "  </tbody>\n",
       "</table>\n",
       "</div>"
      ],
      "text/plain": [
       "                          CompanyName          ContactTitle  orders_placed\n",
       "0                                None                  None             77\n",
       "1                 Alfreds Futterkiste  Sales Representative             12\n",
       "2  Ana Trujillo Emparedados y helados                 Owner             10\n",
       "3                     Around the Horn  Sales Representative             30\n",
       "4                       B's Beverages  Sales Representative             22\n",
       "5                  Berglunds snabbköp   Order Administrator             52\n",
       "6             Blauer See Delikatessen  Sales Representative             14\n",
       "7            Blondesddsl père et fils     Marketing Manager             26\n",
       "8                             Bon app                 Owner             44\n",
       "9               Bottom-Dollar Markets    Accounting Manager             35"
      ]
     },
<<<<<<< HEAD
     "execution_count": 42,
=======
     "execution_count": 51,
>>>>>>> 04766fb820eca212a3d7937313ba7748d4fc895c
     "metadata": {},
     "output_type": "execute_result"
    }
   ],
   "source": [
    "q = '''SELECT c.CompanyName, c.ContactTitle, COUNT(*) AS orders_placed \\\n",
    "FROM OrderDetail od \\\n",
    "LEFT JOIN [Order] o ON od.OrderId = o.Id \\\n",
    "LEFT JOIN Customer c ON c.Id = o.CustomerId \\\n",
    "GROUP BY c.CompanyName'''\n",
    "\n",
    "df = pd.read_sql_query(q, engine)\n",
    "df.head(10)"
   ]
  },
  {
   "cell_type": "code",
   "execution_count": 52,
   "metadata": {},
   "outputs": [
    {
     "data": {
      "text/plain": [
       "2155"
      ]
     },
     "execution_count": 52,
     "metadata": {},
     "output_type": "execute_result"
    }
   ],
   "source": [
    "df.orders_placed.sum()"
   ]
  },
  {
   "cell_type": "markdown",
   "metadata": {},
   "source": [
    "Good, we have all of the orders placed. There seems be a few ghost orders, someone placing some personal orders, or some testing data. Nevertheless, I will need to remove them."
   ]
  },
  {
   "cell_type": "code",
   "execution_count": 53,
   "metadata": {},
   "outputs": [
    {
     "data": {
      "text/html": [
       "<div>\n",
       "<style scoped>\n",
       "    .dataframe tbody tr th:only-of-type {\n",
       "        vertical-align: middle;\n",
       "    }\n",
       "\n",
       "    .dataframe tbody tr th {\n",
       "        vertical-align: top;\n",
       "    }\n",
       "\n",
       "    .dataframe thead th {\n",
       "        text-align: right;\n",
       "    }\n",
       "</style>\n",
       "<table border=\"1\" class=\"dataframe\">\n",
       "  <thead>\n",
       "    <tr style=\"text-align: right;\">\n",
       "      <th></th>\n",
       "      <th>orders_placed</th>\n",
       "    </tr>\n",
       "  </thead>\n",
       "  <tbody>\n",
       "    <tr>\n",
       "      <th>count</th>\n",
       "      <td>85.000000</td>\n",
       "    </tr>\n",
       "    <tr>\n",
       "      <th>mean</th>\n",
       "      <td>24.447059</td>\n",
       "    </tr>\n",
       "    <tr>\n",
       "      <th>std</th>\n",
       "      <td>20.049050</td>\n",
       "    </tr>\n",
       "    <tr>\n",
       "      <th>min</th>\n",
       "      <td>2.000000</td>\n",
       "    </tr>\n",
       "    <tr>\n",
       "      <th>25%</th>\n",
       "      <td>11.000000</td>\n",
       "    </tr>\n",
       "    <tr>\n",
       "      <th>50%</th>\n",
       "      <td>20.000000</td>\n",
       "    </tr>\n",
       "    <tr>\n",
       "      <th>75%</th>\n",
       "      <td>31.000000</td>\n",
       "    </tr>\n",
       "    <tr>\n",
       "      <th>max</th>\n",
       "      <td>116.000000</td>\n",
       "    </tr>\n",
       "  </tbody>\n",
       "</table>\n",
       "</div>"
      ],
      "text/plain": [
       "       orders_placed\n",
       "count      85.000000\n",
       "mean       24.447059\n",
       "std        20.049050\n",
       "min         2.000000\n",
       "25%        11.000000\n",
       "50%        20.000000\n",
       "75%        31.000000\n",
       "max       116.000000"
      ]
     },
     "execution_count": 53,
     "metadata": {},
     "output_type": "execute_result"
    }
   ],
   "source": [
    "df.drop(index=0, inplace=True)\n",
    "df.describe()"
   ]
  },
  {
   "cell_type": "markdown",
   "metadata": {},
   "source": [
    "Now encoding manager title vs no mananger title."
   ]
  },
  {
   "cell_type": "code",
   "execution_count": null,
   "metadata": {},
   "outputs": [],
   "source": [
    "df['is_mgmt'] = np.where(df.ContactTitle.str.contains('anager'),1,0) #also could have used .lower() to include the full word"
   ]
  },
  {
   "cell_type": "code",
   "execution_count": null,
   "metadata": {},
   "outputs": [],
   "source": [
    "df.head(10)"
   ]
  },
  {
   "cell_type": "code",
   "execution_count": null,
   "metadata": {},
   "outputs": [],
   "source": [
    "plt.figure(figsize=(12,12))\n",
    "sns.violinplot(y='orders_placed',x='is_mgmt', data=df)\n",
    "plt.title('Violin plots: comparing the distribution of management vs non-management')\n",
    "plt.xlabel('Is management')\n",
    "plt.ylabel('Number of items in order');"
   ]
  },
  {
   "cell_type": "code",
   "execution_count": null,
   "metadata": {},
   "outputs": [],
   "source": [
    "df.groupby('is_mgmt').orders_placed.idxmax(),df.groupby('is_mgmt').orders_placed.max()"
   ]
  },
  {
   "cell_type": "code",
   "execution_count": null,
   "metadata": {},
   "outputs": [],
   "source": [
    "df.drop(index=[66,19], inplace=True)\n",
    "#df.drop(index=[57], inplace=True)"
   ]
  },
  {
   "cell_type": "code",
   "execution_count": null,
   "metadata": {},
   "outputs": [],
   "source": [
    "plt.figure(figsize=(12,12))\n",
    "sns.violinplot(y='orders_placed',x='is_mgmt', data=df)\n",
    "plt.title('Violin plots: comparing the distribution of management vs non-management')\n",
    "plt.xlabel('Is management')\n",
    "plt.ylabel('Number of items in order');"
   ]
  },
  {
   "cell_type": "markdown",
   "metadata": {},
   "source": [
    "## 3-2 Testing\n",
    "\n",
    "I will perform both the independent T-test as well as Mann-Whitney U test.  \n",
    "\n",
    "See section 2-2 for supporting documentation"
   ]
  },
  {
   "cell_type": "code",
   "execution_count": null,
   "metadata": {},
   "outputs": [],
   "source": [
    "mgmt_yes = df.orders_placed[df.is_mgmt == 1]\n",
    "mgmt_no = df.orders_placed[df.is_mgmt == 0]\n",
    "ttest_ind(mgmt_yes, mgmt_no)"
   ]
  },
  {
   "cell_type": "code",
   "execution_count": null,
   "metadata": {},
   "outputs": [],
   "source": [
    "mannwhitneyu(mgmt_no, mgmt_yes)"
   ]
  },
  {
   "cell_type": "markdown",
   "metadata": {},
   "source": [
    "## 3-3 Results"
   ]
  },
  {
   "cell_type": "markdown",
   "metadata": {},
   "source": [
    "- Failed to reject the null hypothesis. As a customer having manager in your title, the quantity ordered _doesn't signifgantly change_ compared to customers without that title  \n",
    "- p-value > $\\alpha$ :: 0.2241 > 0.05\n",
    "- Further testing: change the criteria in which the customers are grouped. Include 'owner' title with the 'manager' title and compare results.\n",
    "___\n",
    "___"
   ]
  },
  {
   "cell_type": "markdown",
   "metadata": {},
   "source": [
    "RESOUCES:\n",
    "\n",
    "https://www.ncbi.nlm.nih.gov/pmc/articles/PMC3116565/\n",
    "\n",
    "https://pythonfordatascience.org/"
   ]
  }
 ],
 "metadata": {
  "kernelspec": {
   "display_name": "Python 3",
   "language": "python",
   "name": "python3"
  },
  "language_info": {
   "codemirror_mode": {
    "name": "ipython",
    "version": 3
   },
   "file_extension": ".py",
   "mimetype": "text/x-python",
   "name": "python",
   "nbconvert_exporter": "python",
   "pygments_lexer": "ipython3",
   "version": "3.7.4"
  }
 },
 "nbformat": 4,
 "nbformat_minor": 4
}
