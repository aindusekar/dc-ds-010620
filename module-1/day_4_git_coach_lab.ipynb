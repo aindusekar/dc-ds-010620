{
 "cells": [
  {
   "cell_type": "code",
   "execution_count": 1,
   "metadata": {},
   "outputs": [
    {
     "name": "stdout",
     "output_type": "stream",
     "text": [
      "Let's talk about git!\n"
     ]
    }
   ],
   "source": [
    "print(\"\"\"Let's talk about git!\"\"\")"
   ]
  },
  {
   "cell_type": "code",
   "execution_count": 1,
   "metadata": {},
   "outputs": [
    {
     "name": "stdout",
     "output_type": "stream",
     "text": [
<<<<<<< HEAD
      "I want to add this\n"
=======
      "I want to add this.\n"
>>>>>>> f89c1165a608f686b0cb67353876da3f9e0ed4dc
     ]
    }
   ],
   "source": [
<<<<<<< HEAD
    "print('I want to add this')"
   ]
  },
  {
   "cell_type": "code",
   "execution_count": null,
   "metadata": {},
   "outputs": [],
   "source": [
    "people = {'John':[21.9,\"Doe\"], 'Bob':[61.4,\"Smith\"], 'Mike': [53.2, \"Ike\"], 'Sally': [74.1, \"Wu\"], 'Paul': [21.4, \"Goldman\"]}\n",
    "people.pop('John')\n",
    "\n",
    "people['John'][0] = 16.5\n",
    "\n",
    "ages = [a[0] for a in people.values()]"
   ]
  },
  {
   "cell_type": "code",
   "execution_count": null,
   "metadata": {},
   "outputs": [],
   "source": [
    "ages"
=======
    "print('I want to add this.')"
>>>>>>> f89c1165a608f686b0cb67353876da3f9e0ed4dc
   ]
  },
  {
   "cell_type": "code",
   "execution_count": null,
   "metadata": {},
   "outputs": [],
   "source": [
    "print('new change')"
   ]
  }
 ],
 "metadata": {
  "kernelspec": {
   "display_name": "Python 3",
   "language": "python",
   "name": "python3"
  },
  "language_info": {
   "codemirror_mode": {
    "name": "ipython",
    "version": 3
   },
   "file_extension": ".py",
   "mimetype": "text/x-python",
   "name": "python",
   "nbconvert_exporter": "python",
   "pygments_lexer": "ipython3",
   "version": "3.7.4"
  }
 },
 "nbformat": 4,
 "nbformat_minor": 4
}
